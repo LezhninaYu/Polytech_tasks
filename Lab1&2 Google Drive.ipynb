{
 "cells": [
  {
   "cell_type": "markdown",
   "metadata": {},
   "source": [
    "Ковшик А.С., 201-361, вариант 5\n"
   ]
  },
  {
   "cell_type": "markdown",
   "metadata": {},
   "source": [
    "# Математические методы обработки данных\n",
    "## Выборочный метод. Первичная обработка экспериментальных данных\n",
    "### Лабораторная работа №1&2\n",
    "\n",
    "На одношпиндельном револьверном автомате изготовляются специальные ролики из пруткового материала. По данным фактических\n",
    "измерений диаметров роликов в партии деталей, изготовленных методом автоматического получения размеров, были определены отклонения размера диаметра от номинального в мм.\n",
    "\n",
    "Требуется исследовать выборку объема n=100, выбрав из таблицы полученных замеров подряд 100 чисел, начиная с номера 4N, где N – ваш порядковый номер в списке группы. В качестве интервалов группировки возьмите интервалы: (-3;-2], (-2;-1], ... , (2;3).\n",
    "\n",
    "- Построить гистограмму, полигон, кумуляту;\n",
    "- Определить характеристики отклонения ($\\overline{x}$, $(S^2)^*$, $S^2$, $S$, $M_e$, $M_o$, $A$, $E$, $V$);\n",
    "- Выдвинуть гипотезу о законе распределения исследуемого признака.\n"
   ]
  },
  {
   "cell_type": "code",
   "execution_count": 34,
   "metadata": {},
   "outputs": [],
   "source": [
    "import numpy as np\n",
    "import pandas as pd\n",
    "import matplotlib.pyplot as plt\n"
   ]
  },
  {
   "cell_type": "code",
   "execution_count": 48,
   "metadata": {},
   "outputs": [
    {
     "data": {
      "text/html": [
       "<div>\n",
       "<style scoped>\n",
       "    .dataframe tbody tr th:only-of-type {\n",
       "        vertical-align: middle;\n",
       "    }\n",
       "\n",
       "    .dataframe tbody tr th {\n",
       "        vertical-align: top;\n",
       "    }\n",
       "\n",
       "    .dataframe thead th {\n",
       "        text-align: right;\n",
       "    }\n",
       "</style>\n",
       "<table border=\"1\" class=\"dataframe\">\n",
       "  <thead>\n",
       "    <tr style=\"text-align: right;\">\n",
       "      <th></th>\n",
       "      <th>Отклонение</th>\n",
       "    </tr>\n",
       "  </thead>\n",
       "  <tbody>\n",
       "    <tr>\n",
       "      <th>0</th>\n",
       "      <td>1.048</td>\n",
       "    </tr>\n",
       "    <tr>\n",
       "      <th>1</th>\n",
       "      <td>-0.037</td>\n",
       "    </tr>\n",
       "    <tr>\n",
       "      <th>2</th>\n",
       "      <td>0.759</td>\n",
       "    </tr>\n",
       "    <tr>\n",
       "      <th>3</th>\n",
       "      <td>0.609</td>\n",
       "    </tr>\n",
       "    <tr>\n",
       "      <th>4</th>\n",
       "      <td>-2.043</td>\n",
       "    </tr>\n",
       "  </tbody>\n",
       "</table>\n",
       "</div>"
      ],
      "text/plain": [
       "   Отклонение\n",
       "0       1.048\n",
       "1      -0.037\n",
       "2       0.759\n",
       "3       0.609\n",
       "4      -2.043"
      ]
     },
     "execution_count": 48,
     "metadata": {},
     "output_type": "execute_result"
    }
   ],
   "source": [
    "dataStr = \"0,414 0,011 0,666 -1,132 -0,410 -1,077 1,484 -0,340 0,789 -0,494 0,364 -1,237 -0,044 -0,111 -0,210 0,931 0,616 -0,377 -0,433 1,048 -0,037 0,759 0,609 -2,043 -2,290 0,404 -0,543 0,486 0,869 0,347 2,816 -0,464 -0,632 -1,614 0,372 -0,074 -0,916 1,314 -0,038 0,673 0,563 -0,107 0,131 -1,808 0,284 0,458 1,307 -1,625 -0,629 -0,504 -0,0056 -0,131 0,048 1,879 -1,016 0,360 -0,119 2,331 1,672 -1,053 0,840 0,246 -0,237 -1,312 1,603 -0,952 -0,566 1,600 0,465 1,951 0,110 0,251 0,116 -0,957 -0,190 1,479 -0,986 1,249 1,934 0,070 -1,358 -1,246 -0,959 -1,297 -0,722 0,925 0,783 -0,402 0,619 1,826 1,272 -0,945 0,494 0,050 -1,696 1,876 0,063 0,132 0,682 0,544 -0,417 -0,666 -0,104 -0,253 -2,543 -1,133 1,987 0,668 0,360 1,927 1,183 1,211 1,765 0,035 -0,359 0,193 -1,023 -0,222 -0,616 -0,060 -1,319 -0,785 -0,430 -0,298 0,248 -0,088 -1,379 0,295 -0,115 -0,621 -0,618 0,209 0,979 0,906 -0,096 -1,376 1,047 -0,872 -2,200 -1,384 1,425 -0,812 0,748 -1,095\"\n",
    "dataArr = np.array(dataStr.replace(\",\", \".\").split(\" \")).astype(float)\n",
    "\n",
    "N = 5  # Порядковый номер в списке группы\n",
    "# Выборка объема n=100, начиная с номера 4N, где N - порядковый номер в списке группы\n",
    "# print(dataArr[4*N-1:4*N-1+100])\n",
    "df = pd.DataFrame({'Отклонение': pd.Series(dataArr[4*N-1: 4*N-1+100])})\n",
    "df.head()\n",
    "# data.count() # Объем выборки\n"
   ]
  },
  {
   "cell_type": "code",
   "execution_count": 36,
   "metadata": {},
   "outputs": [
    {
     "data": {
      "text/html": [
       "<div>\n",
       "<style scoped>\n",
       "    .dataframe tbody tr th:only-of-type {\n",
       "        vertical-align: middle;\n",
       "    }\n",
       "\n",
       "    .dataframe tbody tr th {\n",
       "        vertical-align: top;\n",
       "    }\n",
       "\n",
       "    .dataframe thead th {\n",
       "        text-align: right;\n",
       "    }\n",
       "</style>\n",
       "<table border=\"1\" class=\"dataframe\">\n",
       "  <thead>\n",
       "    <tr style=\"text-align: right;\">\n",
       "      <th></th>\n",
       "      <th>Отклонение</th>\n",
       "      <th>Частость</th>\n",
       "    </tr>\n",
       "    <tr>\n",
       "      <th>Интервал</th>\n",
       "      <th></th>\n",
       "      <th></th>\n",
       "    </tr>\n",
       "  </thead>\n",
       "  <tbody>\n",
       "    <tr>\n",
       "      <th>(-3, -2]</th>\n",
       "      <td>3</td>\n",
       "      <td>0.03</td>\n",
       "    </tr>\n",
       "    <tr>\n",
       "      <th>(-2, -1]</th>\n",
       "      <td>12</td>\n",
       "      <td>0.12</td>\n",
       "    </tr>\n",
       "    <tr>\n",
       "      <th>(-1, 0]</th>\n",
       "      <td>30</td>\n",
       "      <td>0.30</td>\n",
       "    </tr>\n",
       "    <tr>\n",
       "      <th>(0, 1]</th>\n",
       "      <td>34</td>\n",
       "      <td>0.34</td>\n",
       "    </tr>\n",
       "    <tr>\n",
       "      <th>(1, 2]</th>\n",
       "      <td>19</td>\n",
       "      <td>0.19</td>\n",
       "    </tr>\n",
       "    <tr>\n",
       "      <th>(2, 3]</th>\n",
       "      <td>2</td>\n",
       "      <td>0.02</td>\n",
       "    </tr>\n",
       "  </tbody>\n",
       "</table>\n",
       "</div>"
      ],
      "text/plain": [
       "          Отклонение  Частость\n",
       "Интервал                      \n",
       "(-3, -2]           3      0.03\n",
       "(-2, -1]          12      0.12\n",
       "(-1, 0]           30      0.30\n",
       "(0, 1]            34      0.34\n",
       "(1, 2]            19      0.19\n",
       "(2, 3]             2      0.02"
      ]
     },
     "execution_count": 36,
     "metadata": {},
     "output_type": "execute_result"
    }
   ],
   "source": [
    "# Интервалы группировки\n",
    "interval_range = pd.interval_range(start=-3, end=3)\n",
    "\n",
    "df['Интервал'] = pd.cut(df['Отклонение'],\n",
    "                        bins=interval_range,\n",
    "                        labels=[1, 2, 3])\n",
    "\n",
    "df_grp = df.groupby('Интервал').count()\n",
    "df_grp = df_grp.assign(Частость=df_grp.Отклонение / 100)\n",
    "df_grp\n"
   ]
  },
  {
   "cell_type": "code",
   "execution_count": 37,
   "metadata": {},
   "outputs": [
    {
     "data": {
      "text/plain": [
       "<matplotlib.legend.Legend at 0x1f73b0131f0>"
      ]
     },
     "execution_count": 37,
     "metadata": {},
     "output_type": "execute_result"
    },
    {
     "data": {
      "image/png": "[encoded data removed]",
      "text/plain": [
       "<Figure size 432x288 with 1 Axes>"
      ]
     },
     "metadata": {
      "needs_background": "light"
     },
     "output_type": "display_data"
    }
   ],
   "source": [
    "# Кумулятивная кривая (кумулята)\n",
    "plt.plot(np.arange(-3, 3),\n",
    "         df_grp['Частость'].cumsum(), label=\"Кумулятивная кривая\")\n",
    "plt.legend()\n"
   ]
  },
  {
   "cell_type": "code",
   "execution_count": 38,
   "metadata": {},
   "outputs": [
    {
     "data": {
      "text/plain": [
       "<matplotlib.legend.Legend at 0x1f73e313a60>"
      ]
     },
     "execution_count": 38,
     "metadata": {},
     "output_type": "execute_result"
    },
    {
     "data": {
      "image/png": "[encoded data removed]",
      "text/plain": [
       "<Figure size 432x288 with 1 Axes>"
      ]
     },
     "metadata": {
      "needs_background": "light"
     },
     "output_type": "display_data"
    }
   ],
   "source": [
    "# Гистограмма и полигон распределения\n",
    "plt.bar([rng.mid for rng in df_grp.index.values],\n",
    "        df_grp['Отклонение'], width=1)\n",
    "plt.plot([rng.mid for rng in df_grp.index.values],\n",
    "         df_grp['Отклонение'], 'r', label=\"Полигон распр-я\")\n",
    "plt.legend()\n"
   ]
  },
  {
   "cell_type": "markdown",
   "metadata": {},
   "source": [
    "Для расчета характеристик отклонения построим вспомогательную таблицу (DataFrame)\n",
    "\n",
    "<img src=\"https://i.ibb.co/x8M4y71/image.png\" alt=\"image\" border=\"0\">\n"
   ]
  },
  {
   "cell_type": "code",
   "execution_count": 39,
   "metadata": {},
   "outputs": [
    {
     "data": {
      "text/html": [
       "<div>\n",
       "<style scoped>\n",
       "    .dataframe tbody tr th:only-of-type {\n",
       "        vertical-align: middle;\n",
       "    }\n",
       "\n",
       "    .dataframe tbody tr th {\n",
       "        vertical-align: top;\n",
       "    }\n",
       "\n",
       "    .dataframe thead th {\n",
       "        text-align: right;\n",
       "    }\n",
       "</style>\n",
       "<table border=\"1\" class=\"dataframe\">\n",
       "  <thead>\n",
       "    <tr style=\"text-align: right;\">\n",
       "      <th></th>\n",
       "      <th>Second</th>\n",
       "      <th>Third</th>\n",
       "      <th>Fourth</th>\n",
       "      <th>Fifth</th>\n",
       "      <th>Sixth</th>\n",
       "      <th>Seventh</th>\n",
       "      <th>Eighth</th>\n",
       "      <th>Nineth</th>\n",
       "    </tr>\n",
       "  </thead>\n",
       "  <tbody>\n",
       "    <tr>\n",
       "      <th>0</th>\n",
       "      <td>-2.5</td>\n",
       "      <td>3</td>\n",
       "      <td>-7.5</td>\n",
       "      <td>-2.6</td>\n",
       "      <td>6.76</td>\n",
       "      <td>20.28</td>\n",
       "      <td>-52.728</td>\n",
       "      <td>137.0928</td>\n",
       "    </tr>\n",
       "    <tr>\n",
       "      <th>1</th>\n",
       "      <td>-1.5</td>\n",
       "      <td>12</td>\n",
       "      <td>-18.0</td>\n",
       "      <td>-1.6</td>\n",
       "      <td>2.56</td>\n",
       "      <td>30.72</td>\n",
       "      <td>-49.152</td>\n",
       "      <td>78.6432</td>\n",
       "    </tr>\n",
       "    <tr>\n",
       "      <th>2</th>\n",
       "      <td>-0.5</td>\n",
       "      <td>30</td>\n",
       "      <td>-15.0</td>\n",
       "      <td>-0.6</td>\n",
       "      <td>0.36</td>\n",
       "      <td>10.80</td>\n",
       "      <td>-6.480</td>\n",
       "      <td>3.8880</td>\n",
       "    </tr>\n",
       "    <tr>\n",
       "      <th>3</th>\n",
       "      <td>0.5</td>\n",
       "      <td>34</td>\n",
       "      <td>17.0</td>\n",
       "      <td>0.4</td>\n",
       "      <td>0.16</td>\n",
       "      <td>5.44</td>\n",
       "      <td>2.176</td>\n",
       "      <td>0.8704</td>\n",
       "    </tr>\n",
       "    <tr>\n",
       "      <th>4</th>\n",
       "      <td>1.5</td>\n",
       "      <td>19</td>\n",
       "      <td>28.5</td>\n",
       "      <td>1.4</td>\n",
       "      <td>1.96</td>\n",
       "      <td>37.24</td>\n",
       "      <td>52.136</td>\n",
       "      <td>72.9904</td>\n",
       "    </tr>\n",
       "    <tr>\n",
       "      <th>5</th>\n",
       "      <td>2.5</td>\n",
       "      <td>2</td>\n",
       "      <td>5.0</td>\n",
       "      <td>2.4</td>\n",
       "      <td>5.76</td>\n",
       "      <td>11.52</td>\n",
       "      <td>27.648</td>\n",
       "      <td>66.3552</td>\n",
       "    </tr>\n",
       "  </tbody>\n",
       "</table>\n",
       "</div>"
      ],
      "text/plain": [
       "   Second  Third  Fourth  Fifth  Sixth  Seventh  Eighth    Nineth\n",
       "0    -2.5      3    -7.5   -2.6   6.76    20.28 -52.728  137.0928\n",
       "1    -1.5     12   -18.0   -1.6   2.56    30.72 -49.152   78.6432\n",
       "2    -0.5     30   -15.0   -0.6   0.36    10.80  -6.480    3.8880\n",
       "3     0.5     34    17.0    0.4   0.16     5.44   2.176    0.8704\n",
       "4     1.5     19    28.5    1.4   1.96    37.24  52.136   72.9904\n",
       "5     2.5      2     5.0    2.4   5.76    11.52  27.648   66.3552"
      ]
     },
     "execution_count": 39,
     "metadata": {},
     "output_type": "execute_result"
    }
   ],
   "source": [
    "dft = pd.DataFrame({'Second': [rng.mid for rng in df_grp.index.values],\n",
    "                    'Third': df_grp['Отклонение'].values})\n",
    "dft = dft.assign(Fourth=dft.Second * dft.Third)\n",
    "mean = 1/dft['Third'].sum() * dft['Fourth'].sum()  # Выборочное среднее\n",
    "dft = dft.assign(Fifth=dft.Second - mean)\n",
    "dft = dft.assign(Sixth=dft.Fifth * dft.Fifth)\n",
    "dft = dft.assign(Seventh=dft.Sixth * dft.Third)\n",
    "dft = dft.assign(Eighth=dft.Seventh * dft.Fifth)\n",
    "dft = dft.assign(Nineth=dft.Eighth * dft.Fifth)\n",
    "# dft.loc['Сумма',:]= dft.sum(axis=0)\n",
    "dft\n"
   ]
  },
  {
   "cell_type": "markdown",
   "metadata": {},
   "source": [
    "Для вычисления эмпирических характеристик – оценок генеральных числовых характеристик случайной величины воспользуемся формулами:\n",
    "\n",
    "<img src=\"https://i.ibb.co/mqXKdQX/image.png\" alt=\"image\" border=\"0\">\n"
   ]
  },
  {
   "cell_type": "code",
   "execution_count": 40,
   "metadata": {},
   "outputs": [],
   "source": [
    "# (1.1) Выборочное среднее\n",
    "mean = 1/dft['Third'].sum() * dft['Fourth'].sum()\n",
    "# (1.2) Дисперсия\n",
    "var = 1/dft['Third'].sum() * dft['Seventh'].sum()\n",
    "# (1.5) Третий центральный момент\n",
    "m3 = 1/dft['Third'].sum() * dft['Eighth'].sum()\n",
    "# (1.6) Четвертый центральный момент\n",
    "m4 = 1/dft['Third'].sum() * dft['Nineth'].sum()\n",
    "# Введем поправку для эмпирической дисперсии, вычислив несмещенную эмпирическую дисперсию:\n",
    "# (1.9) Несмещенная эмпирическая дисперсия\n",
    "evar = (dft['Third'].sum()/(dft['Third'].sum() - 1)) * var\n",
    "# (1.3) Среднее квадратическое отклонение\n",
    "std = var ** (0.5)  \n",
    "# Выборочное среднее квадратическое отклонение\n",
    "estd = evar ** (0.5)  \n"
   ]
  },
  {
   "cell_type": "markdown",
   "metadata": {},
   "source": [
    "Мода $М_о$ – значение случайной величины, для которой вероятность\n",
    "(плотность распределения) максимальна. Для группированного распределения\n",
    "Мо вычисляется по формуле:\n",
    "\n",
    "$$M_o = L + i\\frac{f_{mo}-f_{mo-1}}{(f_{mo}-f_{mo-1})+(f_{mo}-f_{mo+1})},$$\n",
    "\n",
    "где $L$- нижняя граница модального интервала, $i$- величина модального интервала, $f_{mo}$, $f_{mo-1}$, $f_{mo+1}$ частота модального, предшествующего модальному и следующего за модальным интервала. Выбираем в качестве начала интервала 0, так как именно на этот интервал приходится наибольшее количество. Имеем:\n"
   ]
  },
  {
   "cell_type": "code",
   "execution_count": 49,
   "metadata": {},
   "outputs": [
    {
     "data": {
      "text/plain": [
       "0.21052631578947367"
      ]
     },
     "execution_count": 49,
     "metadata": {},
     "output_type": "execute_result"
    }
   ],
   "source": [
    "mode = 0 + 1 * ((34-30)/((34-30)+(34-19)))\n",
    "mode\n"
   ]
  },
  {
   "cell_type": "markdown",
   "metadata": {},
   "source": [
    "Наиболее часто встречающееся значение ряда – 0.211.\n",
    "\n",
    "Для вычисления медианы группированного распределения\n",
    "воспользуемся формулой:\n",
    "\n",
    "$$M_e = L + i(\\frac{\\frac{n}{2} - F}{f}),$$\n",
    "\n",
    "где $L$ – нижняя граница интервала, в котором находится медиана (медианный\n",
    "интервал),\n",
    "$i$ – величина медианного интервала,\n",
    "$n$- объем выборки,\n",
    "$f$- частота медианного интервала,\n",
    "$F$- накопленная частота интервала, предшествующему медианному. Медианным является интервал 0 - 1, т.к. в этом интервале накопленная частота, больше медианного номера. Имеем:\n"
   ]
  },
  {
   "cell_type": "code",
   "execution_count": 43,
   "metadata": {},
   "outputs": [
    {
     "data": {
      "text/plain": [
       "0.14705882352941177"
      ]
     },
     "execution_count": 43,
     "metadata": {},
     "output_type": "execute_result"
    }
   ],
   "source": [
    "median = 0 + 1 * (((dft['Third'].sum())/2 - 45)/34)\n",
    "median\n"
   ]
  },
  {
   "cell_type": "markdown",
   "metadata": {},
   "source": [
    "Таким образом, 50% единиц совокупности будут меньше по величине 0.147.\n",
    "\n",
    "В симметричных рядах распределения значение моды и медианы совпадают со средней величиной $(\\overline{x}=M_e=M_o)$, а в умеренно асимметричных они соотносятся таким образом: $3(\\overline{x}-M_e) ≈ \\overline{x}-M_o$.\n",
    "В нашем случае $-0.141 ≈ -0.111$\n"
   ]
  },
  {
   "cell_type": "code",
   "execution_count": 44,
   "metadata": {},
   "outputs": [],
   "source": [
    "a = m3 / (estd ** (3))  # (1.7) Коэффициент асимметрии\n",
    "e = m4 / (estd ** (4))  # (1.8) Эксцесс\n",
    "v = estd / mean  # (1.4) Коэффициент вариации\n"
   ]
  },
  {
   "cell_type": "code",
   "execution_count": 45,
   "metadata": {},
   "outputs": [
    {
     "name": "stdout",
     "output_type": "stream",
     "text": [
      "Математическое ожидание = 0.1\n",
      "Дисперсия = 1.16\n",
      "Третий центральный момент = -0.2640000000000004\n",
      "Четвертый центральный момент = 3.5984000000000003\n",
      "Несмещенная эмпирическая дисперсия = 1.1717171717171717\n",
      "Среднее квадратическое отклонение = 1.0770329614269007\n",
      "Выборочное среднее квадратическое отклонение = 1.0824588545146516\n",
      "Медиана = 0.14705882352941177\n",
      "Мода = 0.21052631578947367\n",
      "Коэффициент асимметрии = -0.2081467982712472\n",
      "Эксцесс = 2.6209808561236625\n",
      "Коэффициент вариации = 10.824588545146515\n"
     ]
    }
   ],
   "source": [
    "params = {'Математическое ожидание': mean,\n",
    "          'Дисперсия': var,\n",
    "          'Третий центральный момент': m3,\n",
    "          'Четвертый центральный момент': m4,\n",
    "          'Несмещенная эмпирическая дисперсия': evar,\n",
    "          'Среднее квадратическое отклонение': std,\n",
    "          'Выборочное среднее квадратическое отклонение': estd,\n",
    "          'Медиана': median,\n",
    "          'Мода': mode,\n",
    "          'Коэффициент асимметрии': a,\n",
    "          'Эксцесс': e,\n",
    "          'Коэффициент вариации': v\n",
    "          }\n",
    "for key, val in params.items():\n",
    "    print(f'{key} = {val}')\n"
   ]
  },
  {
   "cell_type": "markdown",
   "metadata": {},
   "source": [
    "По виду полигона (гистограммы и кумуляты), а так же по значениям оценок генеральных характеристик, можно предположить, что полученное распределение математически может быть описано законом нормального распределения $X = N(0.1;1.082)$. Проверка выдвинутого предположения (гипотезы) будет рассмотрена в следующей лабораторной работе.\n"
   ]
  }
 ],
 "metadata": {
  "kernelspec": {
   "display_name": "Python 3.10.2 64-bit",
   "language": "python",
   "name": "python3"
  },
  "language_info": {
   "codemirror_mode": {
    "name": "ipython",
    "version": 3
   },
   "file_extension": ".py",
   "mimetype": "text/x-python",
   "name": "python",
   "nbconvert_exporter": "python",
   "pygments_lexer": "ipython3",
   "version": "3.10.2"
  },
  "orig_nbformat": 4,
  "vscode": {
   "interpreter": {
    "hash": "607db476e417971f05b607c2dd14e77ee8262c2c4c20dea422522c60605a222a"
   }
  }
 },
 "nbformat": 4,
 "nbformat_minor": 2
}
