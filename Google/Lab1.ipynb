{
 "cells": [
  {
   "cell_type": "markdown",
   "metadata": {},
   "source": [
    "# Выборочный метод. Первичная обработка экспериментальных данных\n",
    "\n",
    "### Лабораторная работа №1\n",
    "\n",
    "На одношпиндельном револьверном автомате изготовляются специальные ролики из пруткового материала. По данным фактических измерений диаметров роликов в партии деталей, изготовленных методом автоматического получения размеров, были определены отклонения размера диаметра от номинального в мм. Требуется исследовать выборку объема n=100, выбрав из таблицы полученных замеров подряд 100 чисел, начиная с номера 4N, где N – ваш порядковый номер в списке группы, построить гистограмму, полигон, кумуляту, определить характеристики отклонения  (x, (S^2^)^*^, S^2^, S, Me, Mo, A, E, V) . Выдвинуть гипотезу о законе распределения исследуемого признака. В качестве интервалов группировки возьмите интервалы: (-3;-2], (-2;-1],..., (2;3)."
   ]
  },
  {
   "cell_type": "code",
   "execution_count": 1,
   "metadata": {},
   "outputs": [],
   "source": [
    "import scipy.stats as sts\n",
    "import numpy as np\n",
    "import pandas as pd\n",
    "import matplotlib.pyplot as plt"
   ]
  },
  {
   "cell_type": "code",
   "execution_count": 2,
   "metadata": {},
   "outputs": [
    {
     "data": {
      "text/plain": "0     0.931\n1     0.616\n2    -0.377\n3    -0.433\n4     1.048\n      ...  \n95    1.183\n96    1.211\n97    1.765\n98    0.035\n99   -0.359\nLength: 100, dtype: float64"
     },
     "execution_count": 2,
     "metadata": {},
     "output_type": "execute_result"
    }
   ],
   "source": [
    "strValues = \"0,414 0,011 0,666 -1,132 -0,410 -1,077 1,484 -0,340 0,789 -0,494 0,364 -1,237 -0,044 -0,111 -0,210 0,931 0,616 -0,377 -0,433 1,048 -0,037 0,759 0,609 -2,043 -2,290 0,404 -0,543 0,486 0,869 0,347 2,816 -0,464 -0,632 -1,614 0,372 -0,074 -0,916 1,314 -0,038 0,673 0,563 -0,107 0,131 -1,808 0,284 0,458 1,307 -1,625 -0,629 -0,504 -0,0056 -0,131 0,048 1,879 -1,016 0,360 -0,119 2,331 1,672 -1,053 0,840 0,246 -0,237 -1,312 1,603 -0,952 -0,566 1,600 0,465 1,951 0,110 0,251 0,116 -0,957 -0,190 1,479 -0,986 1,249 1,934 0,070 -1,358 -1,246 -0,959 -1,297 -0,722 0,925 0,783 -0,402 0,619 1,826 1,272 -0,945 0,494 0,050 -1,696 1,876 0,063 0,132 0,682 0,544 -0,417 -0,666 -0,104 -0,253 -2,543 -1,133 1,987 0,668 0,360 1,927 1,183 1,211 1,765 0,035 -0,359 0,193 -1,023 -0,222 -0,616 -0,060 -1,319 -0,785 -0,430 -0,298 0,248 -0,088 -1,379 0,295 -0,115 -0,621 -0,618 0,209 0,979 0,906 -0,096 -1,376 1,047 -0,872 -2,200 -1,384 1,425 -0,812 0,748 -1,095\"\n",
    "\n",
    "values = np.array(strValues.replace(\",\", \".\").split(\" \")).astype(float)\n",
    "myN = 4 #Мой порядковый номер\n",
    "\n",
    "data = values[4*myN-1 : 4*myN+99] #100 значений\n",
    "#print(data)\n",
    "#minX = min(data)\n",
    "#maxX = max(data)\n",
    "dataS = pd.Series(values[4*myN-1 : 4*myN+99])\n",
    "\n",
    "dataS"
   ]
  },
  {
   "cell_type": "code",
   "execution_count": 3,
   "metadata": {},
   "outputs": [
    {
     "name": "stdout",
     "output_type": "stream",
     "text": [
      "-2.543 - минимальное значение\n",
      "2.816 - максимальное значение\n",
      "5.359 - размах варьирования\n"
     ]
    }
   ],
   "source": [
    "minX = dataS.min()\n",
    "maxX = dataS.max()\n",
    "print(f\"{minX} - минимальное значение\")\n",
    "print(f\"{maxX} - максимальное значение\")\n",
    "R = maxX - minX #Размах варьирования\n",
    "print(f\"{R} - размах варьирования\")"
   ]
  },
  {
   "cell_type": "markdown",
   "metadata": {},
   "source": [
    "### Для определения длины частичного интервала воспользуемся формулой Стерджеса:\n",
    "$$h = \\frac{R}{1 + 3,222\\lg n} $$"
   ]
  },
  {
   "cell_type": "code",
   "execution_count": 4,
   "metadata": {},
   "outputs": [
    {
     "name": "stdout",
     "output_type": "stream",
     "text": [
      "Длина частичного интервала - 0.72\n"
     ]
    },
    {
     "data": {
      "text/plain": "[[-2.903, -2.183, 0],\n [-2.183, -1.463, 0],\n [-1.463, -0.743, 0],\n [-0.743, -0.023, 0],\n [-0.023, 0.697, 0],\n [0.697, 1.417, 0],\n [1.417, 2.137, 0],\n [2.137, 2.857, 0]]"
     },
     "execution_count": 4,
     "metadata": {},
     "output_type": "execute_result"
    }
   ],
   "source": [
    "n = len(data)\n",
    "#n = len(dataS)\n",
    "#Определение интервала по формуле Стерджеса\n",
    "h = round(R / (1 + 3.222 * np.log10(n)), 3)\n",
    "print(f\"Длина частичного интервала - {h}\")\n",
    "xStart = minX - 0.5 * h #Начальный интервал\n",
    "xEnd = xStart\n",
    "#Интервалы\n",
    "table = []\n",
    "\n",
    "while xEnd - h <= maxX >= xEnd:\n",
    "    xEnd += h\n",
    "    table.append([float('%.3f' % (xEnd - h)), float('%.3f' % xEnd), 0])\n",
    "\n",
    "table"
   ]
  },
  {
   "cell_type": "code",
   "execution_count": 5,
   "metadata": {},
   "outputs": [
    {
     "data": {
      "text/plain": "[[-2.903, -2.183, 2, 0.02],\n [-2.183, -1.463, 5, 0.05],\n [-1.463, -0.743, 13, 0.13],\n [-0.743, -0.023, 23, 0.23],\n [-0.023, 0.697, 30, 0.3],\n [0.697, 1.417, 13, 0.13],\n [1.417, 2.137, 12, 0.12],\n [2.137, 2.857, 2, 0.02]]"
     },
     "execution_count": 5,
     "metadata": {},
     "output_type": "execute_result"
    }
   ],
   "source": [
    "for i in range(n):\n",
    "    for j in range(len(table)):\n",
    "        if table[j][0] <= dataS[i] < table[j][1]:\n",
    "            table[j][2] += 1\n",
    "p = [] # Частность\n",
    "for i in table:\n",
    "    i.append(i[2]/n)\n",
    "    p.append(i[2]/n)\n",
    "table"
   ]
  },
  {
   "cell_type": "code",
   "execution_count": 6,
   "metadata": {},
   "outputs": [
    {
     "data": {
      "text/plain": "<matplotlib.legend.Legend at 0x210abd51fc0>"
     },
     "execution_count": 6,
     "metadata": {},
     "output_type": "execute_result"
    },
    {
     "data": {
      "text/plain": "<Figure size 640x480 with 1 Axes>",
      "image/png": "[encoded data removed]"
     },
     "metadata": {},
     "output_type": "display_data"
    }
   ],
   "source": [
    "sum_relative = 0\n",
    "\n",
    "for i in range(len(table)):\n",
    "    if i == 0:\n",
    "        table[i].append(0)\n",
    "    else:\n",
    "        table[i].append(float('%.4f' % sum_relative))\n",
    "    sum_relative += table[i][3]\n",
    "\n",
    "    table[i].append(float('%.3f' % (table[i][3] / h)))\n",
    "\n",
    "plt.plot(np.arange(start=table[0][0], stop=table[len(table)-1][1], step=h), pd.Series(p).cumsum(), label='Кумулятивная кривая')\n",
    "plt.legend()"
   ]
  },
  {
   "cell_type": "code",
   "execution_count": 7,
   "metadata": {},
   "outputs": [
    {
     "data": {
      "text/plain": "   Начало интервала  Конец интервала  Частота  Частость  f(x)   F(x)\n0            -2.903           -2.183        2      0.02  0.00  0.028\n1            -2.183           -1.463        5      0.05  0.02  0.069\n2            -1.463           -0.743       13      0.13  0.07  0.181\n3            -0.743           -0.023       23      0.23  0.20  0.319\n4            -0.023            0.697       30      0.30  0.43  0.417\n5             0.697            1.417       13      0.13  0.73  0.181\n6             1.417            2.137       12      0.12  0.86  0.167\n7             2.137            2.857        2      0.02  0.98  0.028",
      "text/html": "<div>\n<style scoped>\n    .dataframe tbody tr th:only-of-type {\n        vertical-align: middle;\n    }\n\n    .dataframe tbody tr th {\n        vertical-align: top;\n    }\n\n    .dataframe thead th {\n        text-align: right;\n    }\n</style>\n<table border=\"1\" class=\"dataframe\">\n  <thead>\n    <tr style=\"text-align: right;\">\n      <th></th>\n      <th>Начало интервала</th>\n      <th>Конец интервала</th>\n      <th>Частота</th>\n      <th>Частость</th>\n      <th>f(x)</th>\n      <th>F(x)</th>\n    </tr>\n  </thead>\n  <tbody>\n    <tr>\n      <th>0</th>\n      <td>-2.903</td>\n      <td>-2.183</td>\n      <td>2</td>\n      <td>0.02</td>\n      <td>0.00</td>\n      <td>0.028</td>\n    </tr>\n    <tr>\n      <th>1</th>\n      <td>-2.183</td>\n      <td>-1.463</td>\n      <td>5</td>\n      <td>0.05</td>\n      <td>0.02</td>\n      <td>0.069</td>\n    </tr>\n    <tr>\n      <th>2</th>\n      <td>-1.463</td>\n      <td>-0.743</td>\n      <td>13</td>\n      <td>0.13</td>\n      <td>0.07</td>\n      <td>0.181</td>\n    </tr>\n    <tr>\n      <th>3</th>\n      <td>-0.743</td>\n      <td>-0.023</td>\n      <td>23</td>\n      <td>0.23</td>\n      <td>0.20</td>\n      <td>0.319</td>\n    </tr>\n    <tr>\n      <th>4</th>\n      <td>-0.023</td>\n      <td>0.697</td>\n      <td>30</td>\n      <td>0.30</td>\n      <td>0.43</td>\n      <td>0.417</td>\n    </tr>\n    <tr>\n      <th>5</th>\n      <td>0.697</td>\n      <td>1.417</td>\n      <td>13</td>\n      <td>0.13</td>\n      <td>0.73</td>\n      <td>0.181</td>\n    </tr>\n    <tr>\n      <th>6</th>\n      <td>1.417</td>\n      <td>2.137</td>\n      <td>12</td>\n      <td>0.12</td>\n      <td>0.86</td>\n      <td>0.167</td>\n    </tr>\n    <tr>\n      <th>7</th>\n      <td>2.137</td>\n      <td>2.857</td>\n      <td>2</td>\n      <td>0.02</td>\n      <td>0.98</td>\n      <td>0.028</td>\n    </tr>\n  </tbody>\n</table>\n</div>"
     },
     "execution_count": 7,
     "metadata": {},
     "output_type": "execute_result"
    }
   ],
   "source": [
    "df = pd.DataFrame(table, columns=['Начало интервала', 'Конец интервала', 'Частота', 'Частость', 'f(x)', 'F(x)'])\n",
    "df"
   ]
  },
  {
   "cell_type": "code",
   "execution_count": 8,
   "metadata": {},
   "outputs": [
    {
     "data": {
      "text/plain": "<matplotlib.legend.Legend at 0x210adffbb50>"
     },
     "execution_count": 8,
     "metadata": {},
     "output_type": "execute_result"
    },
    {
     "data": {
      "text/plain": "<Figure size 640x480 with 1 Axes>",
      "image/png": "[encoded data removed]"
     },
     "metadata": {},
     "output_type": "display_data"
    }
   ],
   "source": [
    "plt.plot(df['Начало интервала'], df['Частость'], color='purple', label='Полигон распределения') #Полигон распределения\n",
    "plt.bar(df['Начало интервала'], df['Частость']) #Гистограмма распределения\n",
    "plt.legend()"
   ]
  },
  {
   "cell_type": "code",
   "execution_count": 9,
   "metadata": {},
   "outputs": [
    {
     "data": {
      "text/plain": "          Частота  Частость\nИнтервал                   \n(-3, -2]        3      0.03\n(-2, -1]       11      0.11\n(-1, 0]        30      0.30\n(0, 1]         35      0.35\n(1, 2]         19      0.19\n(2, 3]          2      0.02",
      "text/html": "<div>\n<style scoped>\n    .dataframe tbody tr th:only-of-type {\n        vertical-align: middle;\n    }\n\n    .dataframe tbody tr th {\n        vertical-align: top;\n    }\n\n    .dataframe thead th {\n        text-align: right;\n    }\n</style>\n<table border=\"1\" class=\"dataframe\">\n  <thead>\n    <tr style=\"text-align: right;\">\n      <th></th>\n      <th>Частота</th>\n      <th>Частость</th>\n    </tr>\n    <tr>\n      <th>Интервал</th>\n      <th></th>\n      <th></th>\n    </tr>\n  </thead>\n  <tbody>\n    <tr>\n      <th>(-3, -2]</th>\n      <td>3</td>\n      <td>0.03</td>\n    </tr>\n    <tr>\n      <th>(-2, -1]</th>\n      <td>11</td>\n      <td>0.11</td>\n    </tr>\n    <tr>\n      <th>(-1, 0]</th>\n      <td>30</td>\n      <td>0.30</td>\n    </tr>\n    <tr>\n      <th>(0, 1]</th>\n      <td>35</td>\n      <td>0.35</td>\n    </tr>\n    <tr>\n      <th>(1, 2]</th>\n      <td>19</td>\n      <td>0.19</td>\n    </tr>\n    <tr>\n      <th>(2, 3]</th>\n      <td>2</td>\n      <td>0.02</td>\n    </tr>\n  </tbody>\n</table>\n</div>"
     },
     "execution_count": 9,
     "metadata": {},
     "output_type": "execute_result"
    },
    {
     "data": {
      "text/plain": "<Figure size 640x480 with 1 Axes>",
      "image/png": "[encoded data removed]"
     },
     "metadata": {},
     "output_type": "display_data"
    }
   ],
   "source": [
    "interval_range = pd.interval_range(start=-3, end=3)\n",
    "a = pd.DataFrame({'Частота':dataS})\n",
    "a['Интервал'] = pd.cut(a['Частота'], bins=interval_range, labels=[1, 2, 3])\n",
    "\n",
    "df_grp = a.groupby('Интервал').count()\n",
    "df_grp = df_grp.assign(Частость=df_grp['Частота'] / 100)\n",
    "\n",
    "# Кумулятивная кривая\n",
    "plt.plot(np.arange(-3, 3),\n",
    "         df_grp['Частость'].cumsum(), label=\"Кумулятивная кривая\")\n",
    "plt.legend()\n",
    "df_grp"
   ]
  },
  {
   "cell_type": "markdown",
   "metadata": {},
   "source": [
    "## Лабораторная работа 2\n",
    "\n",
    "По выборке могут быть рассчитаны выборочные статистические характеристики (выборочные: среднее, дисперсия и т.п.), которые являются оценками соответствующих генеральных статистических характеристик (параметров распределения). Каждую выборочную характеристику также следует рассматривать как значение некоторой случайной величины, изменяющейся от выборки к выборке. При оценке числовых характеристик следует иметь в виду, что сами оценки являются случайными величинами. Важно, чтобы эти оценки обладали «хорошими» свойствами, которыми являются: состоятельность, несмещенность, эффективность, достаточность. Оценка называется состоятельной, если с увеличением объема выборки она стремится (по вероятности) к оцениваемому параметру. Оценка называется несмещенной, если ее математическое ожидание при любом объеме выборки равно оцениваемому параметру.\n",
    "С учетом этих требований оценки математического ожидания, дисперсии, среднего квадратического отклонения, коэффициента вариации, третьего и четвертого центральных моментов, асимметрии и эксцесса осуществляют соответственно по формулам.\n",
    "\n",
    "Для расчёта построим вспомогательную таблицу"
   ]
  },
  {
   "cell_type": "code",
   "execution_count": 10,
   "metadata": {},
   "outputs": [
    {
     "data": {
      "text/plain": "    xi  ni  xi * ni  xi - x  (xi - x)^2  (xi - x)^2 * ni  (xi - x)^3 * ni  \\\n0 -2.5   3     -7.5   -2.62      6.8644          20.5932       -53.954184   \n1 -1.5  11    -16.5   -1.62      2.6244          28.8684       -46.766808   \n2 -0.5  30    -15.0   -0.62      0.3844          11.5320        -7.149840   \n3  0.5  35     17.5    0.38      0.1444           5.0540         1.920520   \n4  1.5  19     28.5    1.38      1.9044          36.1836        49.933368   \n5  2.5   2      5.0    2.38      5.6644          11.3288        26.962544   \n\n   (xi - x)^4 * ni  \n0       141.359962  \n1        75.762229  \n2         4.432901  \n3         0.729798  \n4        68.908048  \n5        64.170855  ",
      "text/html": "<div>\n<style scoped>\n    .dataframe tbody tr th:only-of-type {\n        vertical-align: middle;\n    }\n\n    .dataframe tbody tr th {\n        vertical-align: top;\n    }\n\n    .dataframe thead th {\n        text-align: right;\n    }\n</style>\n<table border=\"1\" class=\"dataframe\">\n  <thead>\n    <tr style=\"text-align: right;\">\n      <th></th>\n      <th>xi</th>\n      <th>ni</th>\n      <th>xi * ni</th>\n      <th>xi - x</th>\n      <th>(xi - x)^2</th>\n      <th>(xi - x)^2 * ni</th>\n      <th>(xi - x)^3 * ni</th>\n      <th>(xi - x)^4 * ni</th>\n    </tr>\n  </thead>\n  <tbody>\n    <tr>\n      <th>0</th>\n      <td>-2.5</td>\n      <td>3</td>\n      <td>-7.5</td>\n      <td>-2.62</td>\n      <td>6.8644</td>\n      <td>20.5932</td>\n      <td>-53.954184</td>\n      <td>141.359962</td>\n    </tr>\n    <tr>\n      <th>1</th>\n      <td>-1.5</td>\n      <td>11</td>\n      <td>-16.5</td>\n      <td>-1.62</td>\n      <td>2.6244</td>\n      <td>28.8684</td>\n      <td>-46.766808</td>\n      <td>75.762229</td>\n    </tr>\n    <tr>\n      <th>2</th>\n      <td>-0.5</td>\n      <td>30</td>\n      <td>-15.0</td>\n      <td>-0.62</td>\n      <td>0.3844</td>\n      <td>11.5320</td>\n      <td>-7.149840</td>\n      <td>4.432901</td>\n    </tr>\n    <tr>\n      <th>3</th>\n      <td>0.5</td>\n      <td>35</td>\n      <td>17.5</td>\n      <td>0.38</td>\n      <td>0.1444</td>\n      <td>5.0540</td>\n      <td>1.920520</td>\n      <td>0.729798</td>\n    </tr>\n    <tr>\n      <th>4</th>\n      <td>1.5</td>\n      <td>19</td>\n      <td>28.5</td>\n      <td>1.38</td>\n      <td>1.9044</td>\n      <td>36.1836</td>\n      <td>49.933368</td>\n      <td>68.908048</td>\n    </tr>\n    <tr>\n      <th>5</th>\n      <td>2.5</td>\n      <td>2</td>\n      <td>5.0</td>\n      <td>2.38</td>\n      <td>5.6644</td>\n      <td>11.3288</td>\n      <td>26.962544</td>\n      <td>64.170855</td>\n    </tr>\n  </tbody>\n</table>\n</div>"
     },
     "execution_count": 10,
     "metadata": {},
     "output_type": "execute_result"
    }
   ],
   "source": [
    "dft = pd.DataFrame({'xi': [interval.mid for interval in df_grp.index.values],\n",
    "                    'ni': df_grp['Частота'].values})\n",
    "dft['xi * ni']=dft['xi'] * dft['ni']\n",
    "mean = 1/dft['ni'].sum() * dft['xi * ni'].sum()  # Выборочное среднее\n",
    "dft['xi - x'] = dft['xi'] - mean\n",
    "dft['(xi - x)^2'] = dft['xi - x'] * dft['xi - x']\n",
    "dft['(xi - x)^2 * ni'] = dft['(xi - x)^2'] * dft['ni']\n",
    "dft['(xi - x)^3 * ni'] = dft['(xi - x)^2 * ni'] * dft['xi - x']\n",
    "dft['(xi - x)^4 * ni'] = dft['(xi - x)^3 * ni'] * dft['xi - x']\n",
    "dft"
   ]
  },
  {
   "cell_type": "markdown",
   "source": [
    "Для вычисления эмпирических характеристик – оценок генеральных числовых характеристик случайной величины воспользовались формулами:\n",
    "\n",
    "### ${\\overline x}^* = \\frac{1}{n} \\sum^v_{i = 1} x^*_i * n_i $  - выборочное среднее\n",
    "### $(S^2)^* = \\frac{1}{n} \\sum^v_{i = 1} (x^*_i - {\\overline x})^2 * n_i $ - дисперсия\n",
    "### $m_3 = \\frac{1}{n} \\sum^v_{i = 1} (x^*_i - {\\overline x})^3 * n_i $ - третий центральный момент\n",
    "### $m_4 = \\frac{1}{n} \\sum^v_{i = 1} (x^*_i - {\\overline x})^4 * n_i $ - четвертый центральный момент\n"
   ],
   "metadata": {
    "collapsed": false
   }
  },
  {
   "cell_type": "code",
   "execution_count": 11,
   "outputs": [
    {
     "name": "stdout",
     "output_type": "stream",
     "text": [
      "-0.06000000000000005 - Выборочное среднее\n",
      "9.463333333333333 - Дисперсия\n",
      "-2.4212000000000033 - Третий центральный момент\n",
      "29.613649333333342 - Четвертый центральный момент\n"
     ]
    }
   ],
   "source": [
    "# Выборочное среднее\n",
    "x = 1/dft['xi * ni'].sum() * dft['xi - x'].sum()\n",
    "# Дисперсия\n",
    "S2 = 1/dft['xi * ni'].sum() * dft['(xi - x)^2 * ni'].sum()\n",
    "# Третий центральный момент\n",
    "m3 = 1/dft['xi * ni'].sum() * dft['(xi - x)^3 * ni'].sum()\n",
    "# Четвертый центральный момент\n",
    "m4 = 1/dft['xi * ni'].sum() * dft['(xi - x)^4 * ni'].sum()\n",
    "print(f\"{x} - Выборочное среднее\\n{S2} - Дисперсия\\n{m3} - Третий центральный момент\\n{m4} - Четвертый центральный момент\")"
   ],
   "metadata": {
    "collapsed": false
   }
  },
  {
   "cell_type": "markdown",
   "source": [
    "Введем поправку для эмпирической дисперсии, вычислив несмещенную эмпирическую дисперсию:"
   ],
   "metadata": {
    "collapsed": false
   }
  },
  {
   "cell_type": "code",
   "execution_count": 12,
   "outputs": [
    {
     "name": "stdout",
     "output_type": "stream",
     "text": [
      "10.323636363636362 - Несмещенная эмпирическая дисперсия\n",
      "3.07625313219399 - Среднее квадратическое отклонение\n",
      "3.213041606272219 - Выборочное среднее квадратическое отклонение\n"
     ]
    }
   ],
   "source": [
    "# Несмещенная эмпирическая дисперсия\n",
    "S2n = (dft['xi * ni'].sum()/(dft['xi * ni'].sum() - 1)) * S2\n",
    "# Среднее квадратическое отклонение\n",
    "s = S2 ** (0.5)\n",
    "# Выборочное среднее квадратическое отклонение\n",
    "s2 = S2n ** (0.5)\n",
    "print(f\"{S2n} - Несмещенная эмпирическая дисперсия\\n{s} - Среднее квадратическое отклонение\\n{s2} - Выборочное среднее квадратическое отклонение\")"
   ],
   "metadata": {
    "collapsed": false
   }
  },
  {
   "cell_type": "markdown",
   "source": [
    "Медиана $Ме$ – центр распределения, точка, которая делит площадь гистограммы пополам. Кроме того, медиана – это такое значение $х$, для которого $F(х) = 0,5$. Для вычисления медианы группированного распределения воспользуемся формулой:\n",
    "## $Me = L + i(\\frac{\\frac {n + 1}{2} - F}{f})$\n",
    ", где $L$ – нижняя граница интервала, в котором находится медиана (медианный интервал),\n",
    "$i$ – величина медианного интервала,\n",
    "$n$ - объем выборки,\n",
    "$f$- частота медианного интервала,\n",
    "$F$ - накопленная частота интервала, предшествующему медианному. Имеем:"
   ],
   "metadata": {
    "collapsed": false
   }
  },
  {
   "cell_type": "code",
   "execution_count": 13,
   "outputs": [
    {
     "name": "stdout",
     "output_type": "stream",
     "text": [
      "-2.0714285714285716 - Медиана\n"
     ]
    }
   ],
   "source": [
    "L = df_grp['Частота'].idxmax().left\n",
    "i = df_grp['Частота'].idxmax().length\n",
    "n = dft['xi * ni'].sum()\n",
    "F = df_grp['Частота'].cumsum().loc[pd.Interval(left=L, right=L+i)]\n",
    "f = df_grp['Частота'].max()\n",
    "median = L + i * ((n+1)/2 - F)/f\n",
    "\n",
    "print(f\"{median} - Медиана\")"
   ],
   "metadata": {
    "collapsed": false
   }
  },
  {
   "cell_type": "markdown",
   "source": [
    "Мода $Мо$ – значение случайной величины, для которой вероятность (плотность распределения) максимальна. Для группированного распределения $Мо$ вычисляется по формуле:\n",
    "## $Mo = L + i * \\frac {f_{mo} - f_{mo-1}}{(f_{mo} - f_{mo-1})+(f_{mo} - f_{mo+1})}$\n",
    ", где $L$ - нижняя граница модального интервала,\n",
    "$i$ - величина модального интервала,\n",
    "$f_{mo}$, $f_{mo-1}$, $f_{mo+1}$ частота модального, предшествующего модальному и следующего за модальным интервала."
   ],
   "metadata": {
    "collapsed": false
   }
  },
  {
   "cell_type": "code",
   "execution_count": 14,
   "outputs": [
    {
     "name": "stdout",
     "output_type": "stream",
     "text": [
      "0.23809523809523808 - мода\n"
     ]
    }
   ],
   "source": [
    "f_mo = df_grp['Частота'][pd.Interval(left=L, right=L+i)]\n",
    "f_mo1 = df_grp['Частота'][pd.Interval(left=L-i, right=L)]\n",
    "f_mo2 = df_grp['Частота'][pd.Interval(left=L+i, right=L+2*i)]\n",
    "mode = L + i * ((f_mo - f_mo1)/((f_mo - f_mo1) + (f_mo - f_mo2)))\n",
    "print(f\"{mode} - мода\")"
   ],
   "metadata": {
    "collapsed": false
   }
  },
  {
   "cell_type": "markdown",
   "source": [
    "Наиболее часто встречающееся значение ряда – 0.238."
   ],
   "metadata": {
    "collapsed": false
   }
  },
  {
   "cell_type": "markdown",
   "source": [
    "### $A = \\frac {m_3}{S^3}$ - Коэффициент асимметрии\n",
    "### $E = \\frac {m_4}{S^4} - 3$ - Эксцесс\n",
    "### $V = \\frac{S}{\\overline x}$ - коэффициент вариации"
   ],
   "metadata": {
    "collapsed": false
   }
  },
  {
   "cell_type": "code",
   "execution_count": 15,
   "outputs": [
    {
     "name": "stdout",
     "output_type": "stream",
     "text": [
      "-0.07299306785930838 - Коэффициент асимметрии\n",
      "0.2778603203224119 - Эксцесс\n",
      "26.77534671893516 - Коэффициент вариации\n"
     ]
    }
   ],
   "source": [
    "A = m3 / (s2 ** (3))  # Коэффициент асимметрии\n",
    "E = m4 / (s2 ** (4))  # Эксцесс\n",
    "V = s2 / mean  # Коэффициент вариации\n",
    "print(f\"{A} - Коэффициент асимметрии\\n{E} - Эксцесс\\n{V} - Коэффициент вариации\")"
   ],
   "metadata": {
    "collapsed": false
   }
  }
 ],
 "metadata": {
  "kernelspec": {
   "display_name": "Python 3 (ipykernel)",
   "language": "python",
   "name": "python3"
  },
  "language_info": {
   "codemirror_mode": {
    "name": "ipython",
    "version": 3
   },
   "file_extension": ".py",
   "mimetype": "text/x-python",
   "name": "python",
   "nbconvert_exporter": "python",
   "pygments_lexer": "ipython3",
   "version": "3.10.8"
  }
 },
 "nbformat": 4,
 "nbformat_minor": 1
}
