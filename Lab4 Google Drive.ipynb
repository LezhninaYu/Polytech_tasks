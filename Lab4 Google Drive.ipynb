{
 "cells": [
  {
   "cell_type": "markdown",
   "metadata": {},
   "source": [
    "Ковшик А.С., 201-361, вариант 5\n"
   ]
  },
  {
   "cell_type": "markdown",
   "metadata": {},
   "source": [
    "# Математические методы обработки данных\n",
    "\n",
    "## Исследование зависимостей\n",
    "\n",
    "### Лабораторная работа №4\n",
    "\n",
    "В следующих задачах следует построить уравнение регрессии вида $\\overline{y}_x = b_0 + b_1x$.\n",
    "Сделать вывод о возможности использования линию регрессии в дальнейших прогнозах.\n",
    "\n",
    "Данные о долговечности элемента (Y) и величине эксплуатационного напряжения (Х):\n",
    "\n",
    "<table>\n",
    "  <tbody>\n",
    "    <tr>\n",
    "      <td>Xi</td>\n",
    "      <td>6</td> \n",
    "      <td>7</td>\n",
    "      <td>7</td>\n",
    "      <td>8</td>\n",
    "      <td>9</td>\n",
    "      <td>9</td>\n",
    "    </tr>\n",
    "    <tr>\n",
    "      <td>Yi</td>\n",
    "      <td>40,1</td>\n",
    "      <td>45,4</td>\n",
    "      <td>46,2</td>\n",
    "      <td>53,2</td>\n",
    "      <td>59,5</td>\n",
    "      <td>60,2</td>\n",
    "    </tr>\n",
    "  </tbody>\n",
    "</table>\n",
    "<hr>\n"
   ]
  },
  {
   "cell_type": "code",
   "execution_count": 54,
   "metadata": {},
   "outputs": [],
   "source": [
    "import numpy as np\n",
    "import pandas as pd\n",
    "import matplotlib.pyplot as plt\n",
    "import scipy.stats as sts\n"
   ]
  },
  {
   "cell_type": "code",
   "execution_count": 55,
   "metadata": {},
   "outputs": [
    {
     "data": {
      "text/html": [
       "<div>\n",
       "<style scoped>\n",
       "    .dataframe tbody tr th:only-of-type {\n",
       "        vertical-align: middle;\n",
       "    }\n",
       "\n",
       "    .dataframe tbody tr th {\n",
       "        vertical-align: top;\n",
       "    }\n",
       "\n",
       "    .dataframe thead th {\n",
       "        text-align: right;\n",
       "    }\n",
       "</style>\n",
       "<table border=\"1\" class=\"dataframe\">\n",
       "  <thead>\n",
       "    <tr style=\"text-align: right;\">\n",
       "      <th></th>\n",
       "      <th>Xi</th>\n",
       "      <th>Yi</th>\n",
       "    </tr>\n",
       "  </thead>\n",
       "  <tbody>\n",
       "    <tr>\n",
       "      <th>0</th>\n",
       "      <td>6</td>\n",
       "      <td>40.1</td>\n",
       "    </tr>\n",
       "    <tr>\n",
       "      <th>1</th>\n",
       "      <td>7</td>\n",
       "      <td>45.4</td>\n",
       "    </tr>\n",
       "    <tr>\n",
       "      <th>2</th>\n",
       "      <td>7</td>\n",
       "      <td>46.2</td>\n",
       "    </tr>\n",
       "    <tr>\n",
       "      <th>3</th>\n",
       "      <td>8</td>\n",
       "      <td>53.2</td>\n",
       "    </tr>\n",
       "    <tr>\n",
       "      <th>4</th>\n",
       "      <td>9</td>\n",
       "      <td>59.5</td>\n",
       "    </tr>\n",
       "    <tr>\n",
       "      <th>5</th>\n",
       "      <td>9</td>\n",
       "      <td>60.2</td>\n",
       "    </tr>\n",
       "  </tbody>\n",
       "</table>\n",
       "</div>"
      ],
      "text/plain": [
       "   Xi    Yi\n",
       "0   6  40.1\n",
       "1   7  45.4\n",
       "2   7  46.2\n",
       "3   8  53.2\n",
       "4   9  59.5\n",
       "5   9  60.2"
      ]
     },
     "execution_count": 55,
     "metadata": {},
     "output_type": "execute_result"
    }
   ],
   "source": [
    "df = pd.DataFrame({'Xi': [6, 7, 7, 8, 9, 9],\n",
    "                   'Yi': [40.1, 45.4, 46.2, 53.2, 59.5, 60.2]})\n",
    "df\n"
   ]
  },
  {
   "cell_type": "markdown",
   "metadata": {},
   "source": [
    "Выборочное уравнение линейной регрессии Y на X имеет вид $\\overline{y_x} - \\overline{y} = r_B\\frac{S_y}{S_x}(x-\\overline{x})$, где $\\overline{y}$ - условная средняя (при фиксированном $х$); $\\overline{x}, \\overline{y}$ - выборочные средние; $S_x^2, S_y^2$ - несмещенные оценки дисперсии; $r_B$ - выборочный коэффициент корреляции: $r_B = (\\sum{x_iy_i}-n*\\overline{x}*\\overline{y})/(n*S_x*S_y)$.\n",
    "\n",
    "n = 6, т.к. наблюдалось 6 точек вида ($x_i;y_i$).\n"
   ]
  },
  {
   "cell_type": "code",
   "execution_count": 56,
   "metadata": {},
   "outputs": [
    {
     "name": "stdout",
     "output_type": "stream",
     "text": [
      "meanX=7.666666666666667, meanY=50.76666666666666, S2x=1.4666666666666515, S2y=66.92266666666765, Sx=1.2110601416389903, Sy=8.180627522792348, Exiyi=2384.7000000000003, rB=0.8316035144886559\n"
     ]
    }
   ],
   "source": [
    "n = 6\n",
    "\n",
    "meanX = df.Xi.sum() / n\n",
    "meanY = df.Yi.sum() / n\n",
    "S2x = (np.sum(np.power(df.Xi, 2)) - n*meanX**2) / (n - 1)\n",
    "S2y = (np.sum(np.power(df.Yi, 2)) - n*meanY**2) / (n - 1)\n",
    "Sx = S2x ** 0.5\n",
    "Sy = S2y ** 0.5\n",
    "Exiyi = np.sum(df.Xi * df.Yi)\n",
    "rB = (Exiyi - n*meanX*meanY)/(n*Sx*Sy)\n",
    "print(f\"meanX={meanX}, meanY={meanY}, S2x={S2x}, S2y={S2y}, Sx={Sx}, Sy={Sy}, Exiyi={Exiyi}, rB={rB}\")\n"
   ]
  },
  {
   "cell_type": "markdown",
   "metadata": {},
   "source": [
    "Уравнение регрессии:\n",
    "\n",
    "$\\overline{y_x} = 50,7 + 0,832\\frac{8,18}{1,21}(x - 7,67)$\n",
    "\n",
    "$\\overline{y} = 6,74x - 0,91$\n"
   ]
  },
  {
   "cell_type": "code",
   "execution_count": 57,
   "metadata": {},
   "outputs": [
    {
     "name": "stdout",
     "output_type": "stream",
     "text": [
      "b0 = -0.9136363636363966, b1 = 6.7409090909090965\n"
     ]
    },
    {
     "data": {
      "text/plain": [
       "[<matplotlib.lines.Line2D at 0x29546342c50>]"
      ]
     },
     "execution_count": 57,
     "metadata": {},
     "output_type": "execute_result"
    },
    {
     "data": {
      "image/png": "[encoded data removed]",
      "text/plain": [
       "<Figure size 432x288 with 1 Axes>"
      ]
     },
     "metadata": {
      "needs_background": "light"
     },
     "output_type": "display_data"
    }
   ],
   "source": [
    "plt.plot(df.Xi, df.Yi, 'o')\n",
    "b1, b0 = np.polyfit(df.Xi, df.Yi, 1)\n",
    "print(f\"b0 = {b0}, b1 = {b1}\")\n",
    "plt.plot(df.Xi, b0 + b1*df.Xi)\n"
   ]
  },
  {
   "cell_type": "markdown",
   "metadata": {},
   "source": [
    "Проверим гипотезу о значимости коэффициента корреляции на уровне значимости $\\alpha=0.05$.\n",
    "\n",
    "$H_0: r=0$, то есть между переменными x и y отсутствует линейная взаимосвязь в генеральной совокупности;\n",
    "\n",
    "$H_1: r\\neq0$, то есть между переменными x и y есть линейная взаимосвязь в генеральной совокупности.\n",
    "\n",
    "Вычислим статистику критерия:\n",
    "$$ t_{расч} = r_{xy}\\sqrt{\\frac{n-k-1}{1-r^2_{xy}}} $$\n",
    ", где k - число факторов в модели\n",
    "$$ t_{наб} = r_B\\frac{\\sqrt{n-2}}{\\sqrt{1-r^2_B}} $$\n"
   ]
  },
  {
   "cell_type": "code",
   "execution_count": 67,
   "metadata": {},
   "outputs": [
    {
     "data": {
      "text/plain": [
       "2.9947740821849433"
      ]
     },
     "execution_count": 67,
     "metadata": {},
     "output_type": "execute_result"
    }
   ],
   "source": [
    "rB * (n - 2)**0.5 / (1 - rB**2)**0.5\n"
   ]
  },
  {
   "cell_type": "markdown",
   "metadata": {},
   "source": [
    "$ t_{наб} = 2,995 $\n",
    "\n",
    "По уровню значимости $\\alpha=0,05$ и числу степеней свободы $k=n-2=6-2=4$ находим двухстороннюю критическую область.\n"
   ]
  },
  {
   "cell_type": "code",
   "execution_count": 66,
   "metadata": {},
   "outputs": [
    {
     "data": {
      "text/plain": [
       "2.7764451051977987"
      ]
     },
     "execution_count": 66,
     "metadata": {},
     "output_type": "execute_result"
    }
   ],
   "source": [
    "sts.t.ppf(1-0.05/2, n-2)\n"
   ]
  },
  {
   "cell_type": "markdown",
   "metadata": {},
   "source": [
    "$t_{кр}=2,776$\n",
    "\n",
    "Так как $|t_{наб}| >t_{кр}$ , то гипотезу о равенстве нулю коэффициента корреляции отвергаем, т.е. считаем, что $r\\neq0$.\n",
    "\n",
    "Найдем, коэффициент детерминации $R^2 = r^2_B$.\n"
   ]
  },
  {
   "cell_type": "code",
   "execution_count": 68,
   "metadata": {},
   "outputs": [
    {
     "data": {
      "text/plain": [
       "0.6915644053098841"
      ]
     },
     "execution_count": 68,
     "metadata": {},
     "output_type": "execute_result"
    }
   ],
   "source": [
    "rB**2\n"
   ]
  },
  {
   "cell_type": "markdown",
   "metadata": {},
   "source": [
    "$R^2 = 0,69 $\n",
    "\n",
    "Так как $R^2<0,75$ (0,75 - шаблонное значение), то уравнением регрессии пользоваться не рекомендуется.\n",
    "В дальнейшем, т.к. зависимость между X и Y существует ($r\\neq0$), следует\n",
    "либо изменить вид зависимости, либо увеличить число наблюдений и провести\n",
    "анализ зависимости снова.\n"
   ]
  }
 ],
 "metadata": {
  "kernelspec": {
   "display_name": "Python 3.10.2 64-bit",
   "language": "python",
   "name": "python3"
  },
  "language_info": {
   "codemirror_mode": {
    "name": "ipython",
    "version": 3
   },
   "file_extension": ".py",
   "mimetype": "text/x-python",
   "name": "python",
   "nbconvert_exporter": "python",
   "pygments_lexer": "ipython3",
   "version": "3.10.2"
  },
  "orig_nbformat": 4,
  "vscode": {
   "interpreter": {
    "hash": "607db476e417971f05b607c2dd14e77ee8262c2c4c20dea422522c60605a222a"
   }
  }
 },
 "nbformat": 4,
 "nbformat_minor": 2
}
