{
 "cells": [
  {
   "cell_type": "code",
   "execution_count": null,
   "metadata": {
    "ExecuteTime": {
     "end_time": "2020-03-14T07:58:32.697668Z",
     "start_time": "2020-03-14T07:58:31.510357Z"
    },
    "id": "RiDJwiqBeBrN"
   },
   "outputs": [],
   "source": [
    "import scipy.stats as sps\n",
    "import numpy as np\n",
    "import pandas as pd\n",
    "import matplotlib.pyplot as plt\n",
    "%matplotlib inline"
   ]
  },
  {
   "cell_type": "markdown",
   "metadata": {
    "id": "tS2sqsC6eBrO"
   },
   "source": [
    "### 1. Работа с библиотекой `scipy.stats`."
   ]
  },
  {
   "cell_type": "markdown",
   "metadata": {
    "id": "V52XGUUXeBrO"
   },
   "source": [
    "<b>Общий принцип:</b>\n",
    "\n",
    "Пусть $X$ — класс, реализующий некоторое распределение. Конкретное распределение с параметрами `params` можно получить как **`X(params)`**. У него доступны следующие методы:\n",
    "\n",
    "\n",
    "* `X(params).rvs(size=N)` — генерация выборки размера $N$ (<b>R</b>andom <b>V</b>ariate<b>S</b>). Возвращает `numpy.array`;\n",
    "* `X(params).cdf(x)` — значение функции распределения в точке $x$ (<b>C</b>umulative <b>D</b>istribution <b>F</b>unction);\n",
    "* `X(params).logcdf(x)` — значение логарифма функции распределения в точке $x$;\n",
    "* `X(params).ppf(q)` — $q$-квантиль (<b>P</b>ercent <b>P</b>oint <b>F</b>unction);\n",
    "* `X(params).mean()` — математическое ожидание;\n",
    "* `X(params).median()` — медиана ($1/2$-квантиль);\n",
    "* `X(params).var()` — дисперсия (<b>Var</b>iance);\n",
    "* `X(params).std()` — стандартное отклонение = корень из дисперсии (<b>St</b>andard <b>D</b>eviation).\n",
    "\n",
    "Кроме того для непрерывных распределений определены функции\n",
    "* `X(params).pdf(x)` — значение плотности в точке $x$ (<b>P</b>robability <b>D</b>ensity <b>F</b>unction);\n",
    "* `X(params).logpdf(x)` — значение логарифма плотности в точке $x$.\n",
    "\n",
    "А для дискретных\n",
    "* `X(params).pmf(k)` — значение дискретной плотности в точке $k$ (<b>P</b>robability <b>M</b>ass <b>F</b>unction);\n",
    "* `X(params).logpdf(k)` — значение логарифма дискретной плотности в точке $k$.\n",
    "\n",
    "Все перечисленные выше методы применимы как к конкретному распределению `X(params)`, так и к самому классу `X`. Во втором случае параметры передаются в сам метод. Например, вызов `X.rvs(size=N, params)` эквивалентен `X(params).rvs(size=N)`. При работе с распределениями и случайными величинами рекомендуем использовать первый способ, посколько он больше согласуется с математическим синтаксисом теории вероятностей.\n",
    "\n",
    "Параметры могут быть следующими:\n",
    "* `loc` — параметр сдвига;\n",
    "* `scale` — параметр масштаба;\n",
    "* и другие параметры (например, $n$ и $p$ для биномиального).\n",
    "\n",
    "---"
   ]
  },
  {
   "cell_type": "markdown",
   "metadata": {
    "id": "aYMN5zjDeBrP"
   },
   "source": [
    "Для примера сгенерируем выборку размера $N = 200$ из распределения $\\mathcal{N}(1, 9)$ и посчитаем некоторые статистики.\n",
    "В терминах выше описанных функций у нас $X$ = `sps.norm`, а `params` = (`loc=1, scale=3`).\n",
    "\n",
    "*Примечание.* Выборка — набор независимых одинаково распределенных случайных величин. Часто в разговорной речи выборку отождествляют с ее *реализацией* — значения случайных величин из выборки при \"выпавшем\" элементарном исходе."
   ]
  },
  {
   "cell_type": "code",
   "execution_count": null,
   "metadata": {
    "ExecuteTime": {
     "end_time": "2020-03-14T07:58:32.709200Z",
     "start_time": "2020-03-14T07:58:32.700539Z"
    },
    "colab": {
     "base_uri": "https://localhost:8080/"
    },
    "id": "hydusgOXeBrP",
    "outputId": "40368799-8aeb-4294-acdc-41787025db73"
   },
   "outputs": [],
   "source": [
    "sample = sps.norm(loc=1, scale=3).rvs(size=200)\n",
    "print('Первые 10 значений выборки:\\n', sample[:10])\n",
    "print('Выборочное среденее: %.3f' % sample.mean())\n",
    "print('Выборочная дисперсия: %.3f' % sample.var())"
   ]
  },
  {
   "cell_type": "markdown",
   "metadata": {
    "id": "k74NXgr4NjqM"
   },
   "source": [
    "Вероятностные характеристики"
   ]
  },
  {
   "cell_type": "code",
   "execution_count": null,
   "metadata": {
    "ExecuteTime": {
     "end_time": "2020-03-14T07:58:32.719090Z",
     "start_time": "2020-03-14T07:58:32.711131Z"
    },
    "colab": {
     "base_uri": "https://localhost:8080/"
    },
    "id": "c5evbn48eBrP",
    "outputId": "0984b78e-449e-4718-c4b3-eea0d0ae6bee"
   },
   "outputs": [],
   "source": [
    "print('Плотность:\\t\\t', sps.norm(loc=1, scale=3).pdf([-1, 0, 1, 2, 3]))\n",
    "print('Функция распределения:\\t', sps.norm(loc=1, scale=3).cdf([-1, 0, 1, 2, 3]))"
   ]
  },
  {
   "cell_type": "markdown",
   "metadata": {
    "id": "K5OBJiUseBrQ"
   },
   "source": [
    "$p$-квантиль распределения с функцией распределения $F$ — это число $min\\{x: F(x) \\geqslant p\\}$."
   ]
  },
  {
   "cell_type": "code",
   "execution_count": null,
   "metadata": {
    "ExecuteTime": {
     "end_time": "2020-03-14T07:58:32.923695Z",
     "start_time": "2020-03-14T07:58:32.918335Z"
    },
    "colab": {
     "base_uri": "https://localhost:8080/"
    },
    "id": "OQKLA3N4eBrQ",
    "outputId": "9b3e763b-3361-48da-d6c2-e6c0399cacff"
   },
   "outputs": [],
   "source": [
    "print('Квантили:', sps.norm(loc=1, scale=3).ppf([0.05, 0.1, 0.5, 0.9, 0.95]))"
   ]
  },
  {
   "cell_type": "markdown",
   "metadata": {
    "id": "NvFlLLDKeBrQ"
   },
   "source": [
    "Cгенерируем выборку размера $N = 200$ из распределения $Bin(10, 0.6)$ и посчитаем некоторые статистики.\n",
    "В терминах выше описанных функций у нас $X$ = `sps.binom`, а `params` = (`n=10, p=0.6`)."
   ]
  },
  {
   "cell_type": "code",
   "execution_count": null,
   "metadata": {
    "ExecuteTime": {
     "end_time": "2020-03-14T07:58:33.525950Z",
     "start_time": "2020-03-14T07:58:33.513746Z"
    },
    "colab": {
     "base_uri": "https://localhost:8080/"
    },
    "id": "fWB5Rkm1eBrR",
    "outputId": "340ed84e-801d-43c6-e0fd-8c0d3f2fb1bc"
   },
   "outputs": [],
   "source": [
    "sample = sps.binom(n=10, p=0.6).rvs(size=200)\n",
    "print('Первые 10 значений выборки:\\n', sample[:10])\n",
    "print('Выборочное среденее: %.3f' % sample.mean())\n",
    "print('Выборочная дисперсия: %.3f' % sample.var())"
   ]
  },
  {
   "cell_type": "code",
   "execution_count": null,
   "metadata": {
    "ExecuteTime": {
     "end_time": "2020-03-14T07:58:33.749192Z",
     "start_time": "2020-03-14T07:58:33.738136Z"
    },
    "colab": {
     "base_uri": "https://localhost:8080/"
    },
    "id": "2lfOf38deBrR",
    "outputId": "e296eb92-d6c2-422e-a324-aeddc76d6752"
   },
   "outputs": [],
   "source": [
    "print('Дискретная плотность:\\t', sps.binom(n=10, p=0.6).pmf([-1, 0, 5, 5.5, 10]))\n",
    "print('Функция распределения:\\t', sps.binom(n=10, p=0.6).cdf([-1, 0, 5, 5.5, 10]))"
   ]
  },
  {
   "cell_type": "code",
   "execution_count": null,
   "metadata": {
    "ExecuteTime": {
     "end_time": "2020-03-14T07:58:33.970132Z",
     "start_time": "2020-03-14T07:58:33.959058Z"
    },
    "colab": {
     "base_uri": "https://localhost:8080/"
    },
    "id": "y7o-GuuHeBrR",
    "outputId": "5a08fdf4-7451-440d-d8aa-952fe847ba63"
   },
   "outputs": [],
   "source": [
    "print('Квантили:', sps.binom(n=10, p=0.6).ppf([0.05, 0.1, 0.5, 0.9, 0.95]))"
   ]
  },
  {
   "cell_type": "markdown",
   "metadata": {
    "id": "hZgBO7QmeBrS"
   },
   "source": [
    "Бывает так, что <b>надо сгенерировать выборку из распределения, которого нет в `scipy.stats`</b>.\n",
    "Для этого надо создать класс, который будет наследоваться от класса `rv_continuous` для непрерывных случайных величин и от класса `rv_discrete` для дискретных случайных величин.\n",
    "<a  target=\"_blank\" href=\"http://docs.scipy.org/doc/scipy/reference/generated/scipy.stats.rv_continuous.html#scipy.stats.rv_continuous\">Пример из документации.</a>"
   ]
  },
  {
   "cell_type": "markdown",
   "metadata": {
    "id": "KvR6Fj2beBrT"
   },
   "source": [
    "Для примера сгенерируем выборку из распределения с плотностью $f(x) = \\frac{4}{15} x^3 I\\{x \\in [1, 2] = [a, b]\\}$."
   ]
  },
  {
   "cell_type": "code",
   "execution_count": null,
   "metadata": {
    "ExecuteTime": {
     "end_time": "2020-03-14T07:58:35.749702Z",
     "start_time": "2020-03-14T07:58:35.533423Z"
    },
    "colab": {
     "base_uri": "https://localhost:8080/"
    },
    "id": "33HoenpteBrT",
    "outputId": "777a88c6-7dc6-4307-943a-d0cf2b626d1a"
   },
   "outputs": [],
   "source": [
    "class cubic_gen(sps.rv_continuous):\n",
    "    def _pdf(self, x):\n",
    "        return 4 * x ** 3 / 15\n",
    "cubic = cubic_gen(a=1, b=2, name='cubic')\n",
    "\n",
    "sample = cubic.rvs(size=200)\n",
    "\n",
    "print('Первые 10 значений выборки:\\n', sample[:10])\n",
    "print('Выборочное среденее: %.3f' % sample.mean())\n",
    "print('Выборочная дисперсия: %.3f' % sample.var())"
   ]
  },
  {
   "cell_type": "markdown",
   "metadata": {
    "id": "9DHOFdMUeBrT"
   },
   "source": [
    "Если дискретная случайная величина может принимать небольшое число значений, то можно не создавать новый класс, как показано выше, а явно указать эти значения и из вероятности."
   ]
  },
  {
   "cell_type": "code",
   "execution_count": null,
   "metadata": {
    "ExecuteTime": {
     "end_time": "2020-03-14T07:58:36.026013Z",
     "start_time": "2020-03-14T07:58:36.010524Z"
    },
    "colab": {
     "base_uri": "https://localhost:8080/"
    },
    "id": "NonnToRBeBrT",
    "outputId": "67f41dec-f655-4c7f-bbb5-cd45cb43ef7e"
   },
   "outputs": [],
   "source": [
    "some_distribution = sps.rv_discrete(\n",
    "    name='some_distribution', \n",
    "    values=([1, 2, 3], [0.6, 0.1, 0.3])  # значения и вероятности\n",
    ")\n",
    "\n",
    "sample = some_distribution.rvs(size=200)\n",
    "\n",
    "print('Первые 10 значений выборки:\\n', sample[:10])\n",
    "print('Выборочное среденее: %.3f' % sample.mean())\n",
    "print('Частота значений по выборке:', \n",
    "      (sample == 1).mean(), (sample == 2).mean(), (sample == 3).mean())"
   ]
  },
  {
   "cell_type": "markdown",
   "metadata": {},
   "source": [
    "**Задача 1.** Сгенерировать выборку размера 10 из распределения $\\mathcal{N}(a, s)$. Для данной выборки подсчитайте выборочные зарактеристики. Постройте гистограмму, эмпирическую функцию распределения.\n",
    "\n"
   ]
  },
  {
   "cell_type": "markdown",
   "metadata": {},
   "source": [
    "**Задача 2.** Скачайте <a href=\"https://www.kaggle.com/spscientist/students-performance-in-exams\n",
    "\">датасет</a> с данными о результатах учащихся на экзаменах.\n",
    "\n",
    "Данный датасет состоит из таблицы баллов учащихся на экзаменах по математике, чтению и письму, а также дополнительной информации о студентах. Каждая строка соответствует одному учащемуся, каждый столбец соответствует одному признаку. В столбцах math score, reading score и writing score записаны баллы за экзамены.\n",
    "\n",
    "Для исследования возьмите столбцы 'math score', 'reading score', 'writing score'.\n",
    "\n",
    "----\n",
    "\n",
    "Чтобы скачать данные, зарегистрируйтесь на сайте, после нажмите download на странице датасета и распакуйте скачанный архив. Вы получите файл формата `csv`.\n",
    "\n",
    "Если вы работаете в Google Colab, можно загрузить полученный файл в разделе \"Файлы\" (значок папки) на левой панели."
   ]
  },
  {
   "cell_type": "code",
   "execution_count": null,
   "metadata": {},
   "outputs": [],
   "source": [
    "# эта функция читает данные, в кавычках укажите путь к файлу на вашем компьютере или в Colab\n",
    "df = pd.read_csv(\"./StudentsPerformance.csv\")"
   ]
  },
  {
   "cell_type": "code",
   "execution_count": null,
   "metadata": {},
   "outputs": [],
   "source": [
    "#Посмотрите на первые строки этой таблицы.\n",
    "df.head()"
   ]
  },
  {
   "cell_type": "code",
   "execution_count": null,
   "metadata": {},
   "outputs": [],
   "source": [
    "#Выберите несколько (3-6) столбцов для анализа значений в них.\n",
    "# укажите столбцы данных \n",
    "# Пример: columns = ['math score', ...]\n",
    "columns = [...]\n",
    "\n",
    "df_chosen_columns = df[columns]\n",
    "\n",
    "#Одномерный массив значений одного признака (например, 'math score') можно получить так:\n",
    "#df_chosen_columns['math score']"
   ]
  },
  {
   "cell_type": "markdown",
   "metadata": {},
   "source": [
    "#### Гистограммы\n",
    "\n",
    "Для каждого из выбранных признаков нарисуйте гистограмму распределения. Для этого воспользуйтесь функцией `matplotlib.pyplot.hist`.\n",
    "\n",
    "Предположите, для каких признаков возможно наличие выбросов. Эту проблему можно решить с помощью параметра range, который определяет, в каких границах строится гистограмма."
   ]
  },
  {
   "cell_type": "code",
   "execution_count": null,
   "metadata": {},
   "outputs": [],
   "source": [
    "plt.figure(figsize=(15, 6))\n",
    "plt.hist(sample, bins=20, range=(-3, 4));"
   ]
  },
  {
   "cell_type": "markdown",
   "metadata": {},
   "source": [
    "В словаре ranges_without_outliers укажите, в каких пределах, по вашему мнению, стоит нарисовать гистограмму распределения для каждого признака."
   ]
  },
  {
   "cell_type": "code",
   "execution_count": null,
   "metadata": {},
   "outputs": [],
   "source": [
    "ranges_without_outliers_example = {\n",
    "    'column1' : (-1, 5),\n",
    "    'column2' : (0, 3)\n",
    "}"
   ]
  },
  {
   "cell_type": "code",
   "execution_count": null,
   "metadata": {},
   "outputs": [],
   "source": [
    "#Аналогично определите интервалы для исследуемых признаков\n",
    "for column, column_range in ranges_without_outliers.items():\n",
    "    plt.figure(figsize=(15, 6))\n",
    "    plt.hist(<...>, range=column_range, bins=20)\n",
    "    plt.title(column + ' distribution')"
   ]
  },
  {
   "cell_type": "markdown",
   "metadata": {},
   "source": [
    "Сделайте выводы\n",
    "\n",
    "Изменилась ли форма распределений, стали ли графики информативнее?"
   ]
  },
  {
   "cell_type": "code",
   "execution_count": null,
   "metadata": {},
   "outputs": [],
   "source": []
  }
 ],
 "metadata": {
  "colab": {
   "collapsed_sections": [],
   "name": "07_scipy_stats.ipynb",
   "provenance": []
  },
  "kernelspec": {
   "display_name": "Python 3 (ipykernel)",
   "language": "python",
   "name": "python3"
  },
  "language_info": {
   "codemirror_mode": {
    "name": "ipython",
    "version": 3
   },
   "file_extension": ".py",
   "mimetype": "text/x-python",
   "name": "python",
   "nbconvert_exporter": "python",
   "pygments_lexer": "ipython3",
   "version": "3.9.7"
  },
  "widgets": {
   "application/vnd.jupyter.widget-state+json": {
    "01d1f1f670484c39a80544091e77e825": {
     "model_module": "@jupyter-widgets/base",
     "model_name": "LayoutModel",
     "state": {
      "_model_module": "@jupyter-widgets/base",
      "_model_module_version": "1.2.0",
      "_model_name": "LayoutModel",
      "_view_count": null,
      "_view_module": "@jupyter-widgets/base",
      "_view_module_version": "1.2.0",
      "_view_name": "LayoutView",
      "align_content": null,
      "align_items": null,
      "align_self": null,
      "border": null,
      "bottom": null,
      "display": null,
      "flex": null,
      "flex_flow": null,
      "grid_area": null,
      "grid_auto_columns": null,
      "grid_auto_flow": null,
      "grid_auto_rows": null,
      "grid_column": null,
      "grid_gap": null,
      "grid_row": null,
      "grid_template_areas": null,
      "grid_template_columns": null,
      "grid_template_rows": null,
      "height": null,
      "justify_content": null,
      "justify_items": null,
      "left": null,
      "margin": null,
      "max_height": null,
      "max_width": null,
      "min_height": null,
      "min_width": null,
      "object_fit": null,
      "object_position": null,
      "order": null,
      "overflow": null,
      "overflow_x": null,
      "overflow_y": null,
      "padding": null,
      "right": null,
      "top": null,
      "visibility": null,
      "width": null
     }
    },
    "0418ac1649f64b2cb359263efe7e7f83": {
     "model_module": "@jupyter-widgets/controls",
     "model_name": "SliderStyleModel",
     "state": {
      "_model_module": "@jupyter-widgets/controls",
      "_model_module_version": "1.5.0",
      "_model_name": "SliderStyleModel",
      "_view_count": null,
      "_view_module": "@jupyter-widgets/base",
      "_view_module_version": "1.2.0",
      "_view_name": "StyleView",
      "description_width": "",
      "handle_color": null
     }
    },
    "0d7846b6eebc4b618f1fcb3067c19476": {
     "model_module": "@jupyter-widgets/base",
     "model_name": "LayoutModel",
     "state": {
      "_model_module": "@jupyter-widgets/base",
      "_model_module_version": "1.2.0",
      "_model_name": "LayoutModel",
      "_view_count": null,
      "_view_module": "@jupyter-widgets/base",
      "_view_module_version": "1.2.0",
      "_view_name": "LayoutView",
      "align_content": null,
      "align_items": null,
      "align_self": null,
      "border": null,
      "bottom": null,
      "display": null,
      "flex": null,
      "flex_flow": null,
      "grid_area": null,
      "grid_auto_columns": null,
      "grid_auto_flow": null,
      "grid_auto_rows": null,
      "grid_column": null,
      "grid_gap": null,
      "grid_row": null,
      "grid_template_areas": null,
      "grid_template_columns": null,
      "grid_template_rows": null,
      "height": null,
      "justify_content": null,
      "justify_items": null,
      "left": null,
      "margin": null,
      "max_height": null,
      "max_width": null,
      "min_height": null,
      "min_width": null,
      "object_fit": null,
      "object_position": null,
      "order": null,
      "overflow": null,
      "overflow_x": null,
      "overflow_y": null,
      "padding": null,
      "right": null,
      "top": null,
      "visibility": null,
      "width": null
     }
    },
    "17df4f4f9a0846ecacecf9fc139696d0": {
     "model_module": "@jupyter-widgets/controls",
     "model_name": "SliderStyleModel",
     "state": {
      "_model_module": "@jupyter-widgets/controls",
      "_model_module_version": "1.5.0",
      "_model_name": "SliderStyleModel",
      "_view_count": null,
      "_view_module": "@jupyter-widgets/base",
      "_view_module_version": "1.2.0",
      "_view_name": "StyleView",
      "description_width": "",
      "handle_color": null
     }
    },
    "1f6bcf7fe96c474d9722bae968cb1348": {
     "model_module": "@jupyter-widgets/controls",
     "model_name": "FloatSliderModel",
     "state": {
      "_dom_classes": [],
      "_model_module": "@jupyter-widgets/controls",
      "_model_module_version": "1.5.0",
      "_model_name": "FloatSliderModel",
      "_view_count": null,
      "_view_module": "@jupyter-widgets/controls",
      "_view_module_version": "1.5.0",
      "_view_name": "FloatSliderView",
      "continuous_update": true,
      "description": "scale",
      "description_tooltip": null,
      "disabled": false,
      "layout": "IPY_MODEL_3bcda375095841558d3012dc697653ef",
      "max": 4,
      "min": 0.01,
      "orientation": "horizontal",
      "readout": true,
      "readout_format": ".2f",
      "step": 0.01,
      "style": "IPY_MODEL_2c93e1f6f5554450a9b94b6241c8ccfb",
      "value": 1
     }
    },
    "2c93e1f6f5554450a9b94b6241c8ccfb": {
     "model_module": "@jupyter-widgets/controls",
     "model_name": "SliderStyleModel",
     "state": {
      "_model_module": "@jupyter-widgets/controls",
      "_model_module_version": "1.5.0",
      "_model_name": "SliderStyleModel",
      "_view_count": null,
      "_view_module": "@jupyter-widgets/base",
      "_view_module_version": "1.2.0",
      "_view_name": "StyleView",
      "description_width": "",
      "handle_color": null
     }
    },
    "3554e3cee4a24a1ca4f3e7a423cffc6f": {
     "model_module": "@jupyter-widgets/controls",
     "model_name": "SliderStyleModel",
     "state": {
      "_model_module": "@jupyter-widgets/controls",
      "_model_module_version": "1.5.0",
      "_model_name": "SliderStyleModel",
      "_view_count": null,
      "_view_module": "@jupyter-widgets/base",
      "_view_module_version": "1.2.0",
      "_view_name": "StyleView",
      "description_width": "",
      "handle_color": null
     }
    },
    "3993381138b44e68a0510fcb1561fd6b": {
     "model_module": "@jupyter-widgets/base",
     "model_name": "LayoutModel",
     "state": {
      "_model_module": "@jupyter-widgets/base",
      "_model_module_version": "1.2.0",
      "_model_name": "LayoutModel",
      "_view_count": null,
      "_view_module": "@jupyter-widgets/base",
      "_view_module_version": "1.2.0",
      "_view_name": "LayoutView",
      "align_content": null,
      "align_items": null,
      "align_self": null,
      "border": null,
      "bottom": null,
      "display": null,
      "flex": null,
      "flex_flow": null,
      "grid_area": null,
      "grid_auto_columns": null,
      "grid_auto_flow": null,
      "grid_auto_rows": null,
      "grid_column": null,
      "grid_gap": null,
      "grid_row": null,
      "grid_template_areas": null,
      "grid_template_columns": null,
      "grid_template_rows": null,
      "height": null,
      "justify_content": null,
      "justify_items": null,
      "left": null,
      "margin": null,
      "max_height": null,
      "max_width": null,
      "min_height": null,
      "min_width": null,
      "object_fit": null,
      "object_position": null,
      "order": null,
      "overflow": null,
      "overflow_x": null,
      "overflow_y": null,
      "padding": null,
      "right": null,
      "top": null,
      "visibility": null,
      "width": null
     }
    },
    "3bcda375095841558d3012dc697653ef": {
     "model_module": "@jupyter-widgets/base",
     "model_name": "LayoutModel",
     "state": {
      "_model_module": "@jupyter-widgets/base",
      "_model_module_version": "1.2.0",
      "_model_name": "LayoutModel",
      "_view_count": null,
      "_view_module": "@jupyter-widgets/base",
      "_view_module_version": "1.2.0",
      "_view_name": "LayoutView",
      "align_content": null,
      "align_items": null,
      "align_self": null,
      "border": null,
      "bottom": null,
      "display": null,
      "flex": null,
      "flex_flow": null,
      "grid_area": null,
      "grid_auto_columns": null,
      "grid_auto_flow": null,
      "grid_auto_rows": null,
      "grid_column": null,
      "grid_gap": null,
      "grid_row": null,
      "grid_template_areas": null,
      "grid_template_columns": null,
      "grid_template_rows": null,
      "height": null,
      "justify_content": null,
      "justify_items": null,
      "left": null,
      "margin": null,
      "max_height": null,
      "max_width": null,
      "min_height": null,
      "min_width": null,
      "object_fit": null,
      "object_position": null,
      "order": null,
      "overflow": null,
      "overflow_x": null,
      "overflow_y": null,
      "padding": null,
      "right": null,
      "top": null,
      "visibility": null,
      "width": null
     }
    },
    "3d12244ee0274e88850e96e09c759348": {
     "model_module": "@jupyter-widgets/base",
     "model_name": "LayoutModel",
     "state": {
      "_model_module": "@jupyter-widgets/base",
      "_model_module_version": "1.2.0",
      "_model_name": "LayoutModel",
      "_view_count": null,
      "_view_module": "@jupyter-widgets/base",
      "_view_module_version": "1.2.0",
      "_view_name": "LayoutView",
      "align_content": null,
      "align_items": null,
      "align_self": null,
      "border": null,
      "bottom": null,
      "display": null,
      "flex": null,
      "flex_flow": null,
      "grid_area": null,
      "grid_auto_columns": null,
      "grid_auto_flow": null,
      "grid_auto_rows": null,
      "grid_column": null,
      "grid_gap": null,
      "grid_row": null,
      "grid_template_areas": null,
      "grid_template_columns": null,
      "grid_template_rows": null,
      "height": null,
      "justify_content": null,
      "justify_items": null,
      "left": null,
      "margin": null,
      "max_height": null,
      "max_width": null,
      "min_height": null,
      "min_width": null,
      "object_fit": null,
      "object_position": null,
      "order": null,
      "overflow": null,
      "overflow_x": null,
      "overflow_y": null,
      "padding": null,
      "right": null,
      "top": null,
      "visibility": null,
      "width": null
     }
    },
    "42bcea16ac9b453cb7b865b7122c2a4e": {
     "model_module": "@jupyter-widgets/controls",
     "model_name": "HBoxModel",
     "state": {
      "_dom_classes": [],
      "_model_module": "@jupyter-widgets/controls",
      "_model_module_version": "1.5.0",
      "_model_name": "HBoxModel",
      "_view_count": null,
      "_view_module": "@jupyter-widgets/controls",
      "_view_module_version": "1.5.0",
      "_view_name": "HBoxView",
      "box_style": "",
      "children": [
       "IPY_MODEL_8437f69958494d0fb2321195483d6b6d",
       "IPY_MODEL_a5b79afb56024fca905bd8f8da584053"
      ],
      "layout": "IPY_MODEL_a20b23a712dd4ff69ed95bbad5521799"
     }
    },
    "43ba6be204844d6f886b5ffb2d688eb1": {
     "model_module": "@jupyter-widgets/controls",
     "model_name": "FloatSliderModel",
     "state": {
      "_dom_classes": [],
      "_model_module": "@jupyter-widgets/controls",
      "_model_module_version": "1.5.0",
      "_model_name": "FloatSliderModel",
      "_view_count": null,
      "_view_module": "@jupyter-widgets/controls",
      "_view_module_version": "1.5.0",
      "_view_name": "FloatSliderView",
      "continuous_update": true,
      "description": "ymax",
      "description_tooltip": null,
      "disabled": false,
      "layout": "IPY_MODEL_3d12244ee0274e88850e96e09c759348",
      "max": 2,
      "min": 0,
      "orientation": "horizontal",
      "readout": true,
      "readout_format": ".2f",
      "step": 0.1,
      "style": "IPY_MODEL_52fe94c8573a41a59ea19c7b98667922",
      "value": 1.4
     }
    },
    "4fc9ed79d69249ef9f29f5e76a60f8fa": {
     "model_module": "@jupyter-widgets/output",
     "model_name": "OutputModel",
     "state": {
      "_dom_classes": [],
      "_model_module": "@jupyter-widgets/output",
      "_model_module_version": "1.0.0",
      "_model_name": "OutputModel",
      "_view_count": null,
      "_view_module": "@jupyter-widgets/output",
      "_view_module_version": "1.0.0",
      "_view_name": "OutputView",
      "layout": "IPY_MODEL_badfae6541e24610834561565e0bda69",
      "msg_id": "",
      "outputs": [
       {
        "image/png": "iVBORw0KGgoAAAANSUhEUgAAAtgAAAFbCAYAAADvH/nuAAAABHNCSVQICAgIfAhkiAAAAAlwSFlzAAALEgAACxIB0t1+/AAAADh0RVh0U29mdHdhcmUAbWF0cGxvdGxpYiB2ZXJzaW9uMy4yLjIsIGh0dHA6Ly9tYXRwbG90bGliLm9yZy+WH4yJAAAgAElEQVR4nOzdeXwU5f0H8M93N3cChBAIkBDOcIncclTxqrdWbeuNqPWu2tZe1lZ/rdbWXrbVeuJVUWsVtVqrWG/rwSFJSAiEQA5CSAgJIRch52af3x+7ISF5NpNsNjuT2c/79drXkp3J5Dvsh+G7T56ZEaUUiIiIiIgoMBxmF0BEREREZCdssImIiIiIAogNNhERERFRALHBJiIiIiIKIDbYREREREQBxAabiIiIiCiA2GATEREREQUQG2wiIiIiogBig01ERINORNaISKWIxJpdy1AlIotERInI9WbXQkS9Y4NNRAHlbQD6+phkdr3UNyLyfpf3bZGPdZ70Lv9Wt9ePA7AKwO+VUoc135ciIs+KyD4RaRGRYhF5UERG+lFnwLbVy8+4SEQeFpHPRaTeu88vDmB7fapZKZUB4E0A94lI3ED3g4gGj/BW6UQUSCLScVC5t5fVbgcwAsBkpVTxoBdFAyYiBwEkeL/8o1LqZ5p1MgEsADBRKVXS5fX3ASwBME4p1dTte6YCWA9gDIB/A8jzrnsKgJ0AjldKHexjjQHblsHPyQIwD0ADgFIAMwH8Qyl1pR/b6lfNIrIEwCYAdyml7h/grhDRIGGDTUQB1dFgK6Wkl3WKAUwEG+whQUSmACgEkA5gPIAWpdSUbutEAjgEoEYpldTl9enwNI1PK6Vu1Gz7PQBnAPi+UurhLq//BcAPAaxWSt3cxzoDti2Dn3MKPI11AYCTAHwC/xvsftcsIjsAxMDz78ft944Q0aDhFBEishQRObk/00pE5BIR+UxE6kSkSURyROTn3oav63rX9GfqivehROQ5H3Xe411+smZZn2rq9j1LROQVESnzThMo907LuGQw6u+nxd7nzQBeBzDZO+2jq3kAwgFkdHv9WgAC4BXNPk+Fp7ksBvBot8W/AnAYwCrpw7ztQG7LiFLqE6VUvhrgCNUAan4ZQCqA0wfy84lo8ISZXQARkQ//A/Bpl68vhKeJO0JE7gfwcwBVAF6C51f2ZwO4H8CZInKGUqrVu3oWek5b+RWAPQCe6/Z6LYB4f4ruZ00d33MDgMcBtAN4C0A+PFMGFgO4BcDaYNXvQ0eDne6t7XsALoGn4dat09Vp8OzXRs12T/E+v999JFYpdUhEvoSnAV0G4CODGgO5rWDxt+Yvvc+nA3hv0Kskon5jg01EVtNxXPpEKXWkofSOXM/r8vVyeBrZvQCWKKX2e1//OYA3AJwH4CfwNLZQSmXB06SiyzZ+BaBYKXVP9yJEpN8Nan9r8i6bDeAxAPUAViiltnfbZkqw6u9F1+Z5G4B9AC4G8FMf63TUEAtgPoAdupMbAczwPu/y8XPz4Wkwp8O4KQ7ktoLF35o7PticOEh1EdEAcYoIEVlNuPe5xWC9a73Pv+loZAFAKeUC8GMAbgDBvpyZPzV9F54PFfd1b66931s6SLX2iYgIgIUAmgDkekdaXwcwUUSWdllVN4KdDMAJoNzH5kd4n+t8LO94vS8fFgK5rWDxq2alVB2AZnimiRCRBXEEm4isZrj3udlgvYXe54+7L1BK7RKRUnjmCo/wNiT+mi8i92hePzlANS3zPr87gBp707X+ZnhGn9crpQr6+P1p8DSCG70fFADgVXROE9kkItEAZgMoV0rt6/K9o7zPNQOon/SqASQZrkVEpmCDTURWk+h9rjRYr2P0z9foaDk8I3zx8D1C2Bfz0G3ud4Br6hidLPOrOmO6+pWIvATgmi5Nsy+6kekv4dmXi0TkJ/Bcms+JnvOvOy7JF+Vj2x1/ByN8LO94vdagxkBvK1gGUnM0Ov9+ichiOEWEiKxmmvd5t8F6Hc3JWB/Lx3Vbz19rlFLS/QH9db79qamjeUoeYJ2+rOlSczSA5fDMo16JziktvelosI9cHaTLNJFUeEbgfZ3g2PEhaRT0dnqfp/tYnuZ99jVHebC2FSx+1SwiDng+mBl9CCUik7DBJiKrWQ6gDcBWg/W2eJ9P7r5ARKYBSAGwWykVzBFLf2rquLrG2YNbGqCUalZKbQRwj/elJX34Nl/N86ve50t6WaccwAF0nszX3Sfe5zO8TeMRIjIMwPEAGqG/AslgbitY/K15BjyXPswCEVkSG2wisgwROReepm+dj6tOdPWs9/luERndZRtOAA/Ac3x7ZlAKDWxNjwNwAfg/7xVFjtJxFZEA6xgZ7XVutLfpWwBPk7ej2+IvAOwHcBGAjmtiH9Vge68T/RmARO8HDHRbXgjgfQCTANzabfG9AGIBvNA9CyIyVURmikjHCbED2dZz3uuFX9O9vkDR1TuQmtE5b/8TEJElcQ42EZlORCYD+BuAcwAcxNGXf9NSSq0XkT8CuAPANhF5DZ4bc5wNYA48DeCfBq3oANWklMoVkVsAPAFgi4j8G57Ls42Cp3GtR+f1kv0xQ0Q67gQYBc9l866A54THNQbfOxNAHDwnRbZ3q9stIq+jszHcq5TSTVl4HcC3AZwJz50Pu7sFnluF/01Evg5PI78Unn3eBeAuzfd8BO+dQOG5SctAttUx0GQ0F/0IEbkQnuuyA53TgZZ3ualPlVLqJ32o19+az4Dn2uL/7mvNRBRkSik++OCDj4A9ACh4By97WafYu94k79cnwnMr7kcBpPr4nue6fk+X1y+Dp3E9BE/TuB2epiSqj7V+6mPZJO/y53wsv8e7/GTNsn7XBM/UmNfhmVfbCs/VPv4L4KIB1t/10QLP3PZ/AJjXh7+fq7zf95CP5Sd12fa/fKwTAaACwKZefs4EAH+HZ0pJKzw3z3kQwMi+5GeA29oCz4cY7XKD997Xo7iv9fa3ZnhOfGwC8GZ//23ywQcfwXuIUgO60ysREVGvvDfauR/AQqXUFqP1g8V7M56DAP6slLrD7Hr6QkS+B89ve1Yopb4wux4i0mODTUREg0pEouC5YsZWpdQ3zK6ng4h8A56TNSepLjcGsirv9cYL4Zmyc5HZ9RCRb6ad5Cgiz4pIpYhs87FcRORvIlIgIltFZKFuPSIisjalVDOAVQDSvbdPtwSl1H+UUlFDobn2mgTgSQA/MViPiExm2gi2iJwIoAHA80qpOZrl58Bzp7Bz4Dnh4yGl1NLu6xERERERWYlpI9hKqc/gudWrLxfA03wr5blua7yIjOtlfSIiIiIi01n5Mn3JAPZ2+brU+1qPWxCLyI0AbgSAmJiYRWlpaegYmXc4HHC5XAgPD0drayuioqLQ2NiImJiYHs/Nzc2IiIhAW1sbwsLC4Ha7O7YPt9uNsLAwtLa2IjIyEs3NzYiOju6xjaamJkRFRaG1tRVhYWFob2+Hw+H5HON2u+F0OuFyuRAREWG4jZaWFkRERMDlcsHhcPR7n5xOJ5RSttonO75Pwd6njq/ttE92fJ+CvU8d27TTPtnxfQr2Ph06dAjDhg2z1T7Z8X0K9j51fK+d9snf9ykzM7NKKXXkvgcdrNxg95lS6kl45qVh8eLFKj29+83EQlNTUxOio6PNLoMshrkgHeaCdJgL0mEuOonIHt3rVr6TYxk81wbtkOJ9jfpo3759ZpdAFsRckA5zQTrMBekwF8as3GC/BeAq79VElgGoU0r1mB5CviUkJJhdAlkQc0E6zAXpMBekw1wYM/Myff8EsAGe2/iWish1InJzl1v6rgNQBM+tdZ+C53ay1A+NjY1ml0AWxFyQDnNBOswF6TAXxkybg62UutxguQJwa5DKsaWOEwiIumIuSIe5IB3mgnSYC2P8G7Kx8PBws0sgC2IuSIe5IB3mgnSYC2NssG2soaHB7BLIgpgL0mEuSIe5IB3mwhgbbBtLTEw0uwSyIOaCdJgL0mEuSIe5MMYG28ZKS0vNLoEsiLkgHeaCdJgL0mEujLHBtrFp06aZXQJZEHNBOswF6TAXpMNcGGODbWPbt283uwSyIOaCdJgL0mEuSIe5MCYd93C3C94qnYiIiIiCQUQylFKLu7/OEWwby8jIMLsEsiDmgnSYC9JhLkiHuTDGEWwiIiIiIj9wBDsE8RMm6TAXpMNckA5zQTrMhTGOYBMRERER+YEj2CEoJyfH7BLIgpgL0mEuSIe5IB3mwhgbbBubPn262SWQBTEXpMNckA5zQTrMhTE22DZWUlJidglkQcwF6TAXpMNckA5zYYwNto0lJSWZXQJZEHNBOswF6TAXpMNcGGODbWO1tbVml0AWxFyQDnNBOswF6TAXxthg21hUVJTZJZAFMRekw1yQDnNBOsyFMTbYREREREQBxAbbxpqbm80ugSyIuSAd5oJ0mAvSYS6MscG2sfj4eLNLIAtiLkiHuSAd5oJ0mAtjbLBtrKKiwuwSyIKYC9JhLkiHuSAd5sIYG2wbS01NNbsEsiDmgnSYC9JhLkiHuTDGBtvGdu3aZXYJZEHMBekwF6TDXJAOc2FMlFJm1xBQixcvVunp6WaXQUREREQ2JyIZSqnF3V/nCLaNZWRkmF0CWRBzQTrMBekwF6TDXBjjCDYRERERkR84gh2C+AmTdJgL0mEuSIe5IB3mwhhHsImIiIiI/MAR7BCUnZ1tdglkQcwF6TAXpMNckA5zYYwj2DbmcrkQFhZmdhlkMcwF6TAXpMNckA5z0Ykj2CGooKDA7BLIgpgL0mEuSIe5IB3mwhgbbBtLSUkxuwSyIOaCdJgL0mEuSIe5MMYG28aqqqrMLoEsiLkgHeaCdJgL0mEujLHBtrG4uDizSyALYi5Ih7kgHeaCdJgLY2ywbaytrc3sEsiCmAvSYS5Ih7kgHebCGBtsG3O73WaXQBbEXJAOc0E6zAXpMBfG2GDbWExMjNklkAUxF6TDXJAOc0E6zIUxNtg2Vl1dbXYJZEHMBekwF6TDXJAOc2GMDbaNjR8/3uwSyIKYC9JhLkiHuSAd5sIYG2wb2717t9klkAUxF6TDXJAOc0E6zIUx3irdxtxuNxwOfoaiozEXpMNckA5zQTrMRSfeKj0EZWVlmV0CWRBzQTrMBekwF6TDXBjjCDYRERERkR84gh2CMjIyzC6BLIi5IB3mgnSYC9JhLoyZOoItImcBeAiAE8DTSqnfd1ueCmANgHjvOncqpdb1tk2OYBMRERFRMFhuBFtEnAAeBXA2gNkALheR2d1WuxvAWqXUAgCXAXgsuFUObZmZmWaXQBbEXJAOc0E6zAXpMBfGzJwisgRAgVKqSCnVCuBlABd0W0cBGO798wgA+4JY35A3f/58s0sgC2IuSIe5IB3mgnSYC2NmNtjJAPZ2+brU+1pX9wC4UkRKAawD8D3dhkTkRhFJF5H08vJyVFVVoby8HGVlZaipqUFhYSGampqQm5sLt9t95JNXxxyizMxMuN1u5ObmoqmpCYWFhaipqUFZWRk6tldcXIyGhgbk5eXB5XIhOzv7qG10POfk5KClpQX5+fmor69HSUkJKisrUVlZiZKSEtTX1yM/Px8tLS3IycnRbiM7Oxsulwt5eXloaGhAcXGxX/u0Y8cO2+2THd+nYO/Ttm3bbLdPdnyfgr1PGzdutN0+2fF9CvY+ffrpp7bbJzu+T8Hep/T0dNvtk7/vky+mzcEWkYsAnKWUut779SoAS5VSt3VZ50feGv8sIssBPANgjlLK7Wu7nIPdqampCdHR0WaXQRbDXJAOc0E6zAXpMBedLDcHG0AZgAldvk7xvtbVdQDWAoBSagOAKACJQanOBvbt44wa6om5IB3mgnSYC9JhLoyZ2WBvBpAmIpNFJAKekxjf6rZOCYCvA4CIzIKnwT4Q1CqHsISEBLNLIAtiLkiHuSAd5oJ0mAtjpjXYSikXgNsAvAdgBzxXC9kuIr8WkfO9q/0YwA0ikg3gnwCuUXa7M84gamxsNLsEsiDmgnSYC9JhLkiHuTAWZuYP917Tel23137Z5c+5AI4Pdl124XDwPkLUE3NBOswF6TAXpMNcGOPfkI2Fh4ebXQJZEHNBOswF6TAXpMNcGGODbWMNDQ1ml0AWxFyQDnNBOswF6TAXxthg21hiIi+4Qj0xF6TDXJAOc0E6zIUxNtg2VlpaanYJZEHMBekwF6TDXJAOc2GMDbaNTZs2zewSyIKYC9JhLkiHuSAd5sIYG2wb2759u9klkAUxF6TDXJAOc0E6zIUx026VPlh4q3QiIiIiCgYr3iqdBllGRobZJZAFMRekw1yQDnNBOsyFMY5gExERERH5gSPYIYifMEmHuSAd5oJ0mAvSYS6McQSbiIiIiMgPHMEOQTk5OWaXQBbEXJAOc0E6zAXpMBfG2GDb2PTp080ugSyIuSAd5oJ0mAvSYS6MscG2sZKSErNLIAtiLkiHuSAd5oJ0mAtjbLBtLCkpyewSyIKYC9JhLkiHuSAd5sIYG2wbq62tNbsEsiDmgnSYC9JhLkiHuTDGBtvGoqKizC6BLIi5IB3mgnSYC9JhLoyxwSYiIiIiCiA22DbW3NxsdglkQcwF6TAXpMNckA5zYYwNto3Fx8ebXQJZEHNBOswF6TAXpMNcGGODbWMVFRVml0AWxFyQDnNBOswF6TAXxthg21hqaqrZJZAFMRekw1yQDnNBOsyFMTbYNrZr1y6zSyALYi5Ih7kgHeaCdJgLY6KUMruGgFq8eLFKT083uwwiIiIisjkRyVBKLe7+OkewbSwjI8PsEsiCmAvSYS5Ih7kgHebCGEewiYiIiIj8wBHsEMRPmKTDXJAOc0E6zAXpMBfGOIJNREREROQHjmCHoOzsbLNLIAtiLkiHuSAd5oJ0mAtjHMG2MZfLhbCwMLPLIIthLkiHuSAd5oJ0mItOHMEOQQUFBWaXQBbEXJAOc0E6zAXpMBfG2GDbWEpKitklkAUxF6TDXJAOc0E6zIWxATfYIuIUkftEJFtEMkXkjkAURgNXVVVldglkQcwF6TAXpMNckA5zYSwQE2juBHAXgIMABMDvRKRWKfVkALZNAxAXF2d2CWRBzAXpMBekw1yQDnNhLBBTRG4E8DaAsQDGAXjf+xqZrK2tzewSyIKYC9JhLkiHuSAd5sLYgBpsEQkHkAJgjVKqXSnVBmANgKmBKI4Gxu12m10CWRBzQTrMBekwF6TDXBgb6Aj2MHimhdR0ea0GwPABbpcCICYmxuwSyIKYC9JhLkiHuSAd5sLYQBtsCUgVNCiqq6vNLoEsiLkgHeaCdJgL0mEujPX7JEcRebbLl5EAFICfisiV3teSA1EYDdz48ePNLoEsiLkgHeaCdJgL0mEujPkzgn1Nl8fl8Ixin9nltdMDURgN3O7du80ugSyIuSAd5oJ0mAvSYS6M8VbpNuZ2u+Fw8F5CdDTmgnSYC9JhLkiHuejEW6WHoKysLLNLIAtiLkiHuSAd5oJ0mAtj/R7BFpEiALcrpd4anJIGhiPYRERERBQMgRzBngSAt/AZAjIyMswugSyIuSAd5oJ0mAvSYS6MmTpFRETOEpGdIlIgInf6WOcSEckVke0i8lKwaxzKFi1aZHYJZEHMBekwF6TDXJAOc2HM3wZ7wGdGiogTwKMAzgYwG8DlIjK72zppAH4O4Hil1DEAbh/ozw0lmZmZZpdAFsRckA5zQTrMBekwF8b8mYPthnGDrZRSvV5jW0SWA7hHKXWm9+ufe7/xd13W+SOAXUqpp/taH+dgd+JZvqTDXJAOc0E6zAXpMBedfM3B7veNZry+AFA0sJKQDGBvl69LASztts50ABCRLwE44WnI/zvAnxsy8vLyMHv2bOMVKaQwF6TDXJAOc0E6zIUxfz9+rFZKfae3R4DqCwOQBuBkeG5q85SIxHdfSURuFJF0EUkvLy9HVVUVysvLUVZWhpqaGhQWFqKpqQm5ublwu91HfrXRMUk/MzMTbrcbubm5aGpqQmFhIWpqalBWVoaO7RUXF6OhoQF5eXlwuVzIzs4+ahsdzzk5OWhpaUF+fj7q6+tRUlKCyspKVFZWoqSkBPX19cjPz0dLSwtycnK028jOzobL5UJeXh4aGhpQXFzs1z5NnDjRdvtkx/cp2PuUnJxsu32y4/sU7H1yOBy22yc7vk/B3qeGhgbb7ZMd36dg71NsbKzt9snf98kXf6eIXKmUGtAJh32cIvIEgE1Kqb97v/4IwJ1Kqc2+tsspIp0KCwsxdepUs8sgi2EuSIe5IB3mgnSYi05WvNHMZgBpIjJZRCIAXAag+7W134Rn9BoikgjPlJGBTk0JGQkJCWaXQBbEXJAOc0E6zAXpMBfG/Gmw7wWwdaA/WCnlAnAbgPcA7ACwVim1XUR+LSLne1d7D8BBEckF8AmAnyqlDg70Z4eKxsZGs0sgC2IuSIe5IB3mgnSYC2P9PslRKXVvoH64UmodgHXdXvtllz8rAD/yPqifeIYv6TAXpMNckA5zQTrMhbF+/w2JyL0isq2X5VtF5O6BlUWBEB4ebnYJZEHMBekwF6TDXJAOc2HMn48g3wTwQS/LPwBwkX/lUCB1nP1N1BVzQTrMBekwF6TDXBjzp8GeDCCvl+U7veuQyRITE80ugSyIuSAd5oJ0mAvSYS6M+TuJpse1qLsYCc9NYchkpaWlZpdAFsRckA5zQTrMBekwF8b8abC3A7hAt0BEBMD56H2Em4Jk2rRpZpdAFsRckA5zQTrMBekwF8b8abCfAbBMRJ4TkdEdL3r//CyAZd51yGTbt283uwSyIOaCdJgL0mEuSIe5MNbvOzkCgIi8COAKAApAufflcQAEwCtKqcsDVmE/8U6ORERERBQMAb2To1LqSnjuvPg2gDrv4y0Al5jZXNPRMjIyzC6BLIi5IB3mgnSYC9JhLoz5NYJtZRzBJiIiIqJgCOgIdrcNJ4oIr9diQfyESTrMBekwF6TDXJAOc2HM3znY4wH8Dp6riQzzvlwP4N8A7lJKlQWswn7iCDYRERERBUPARrBFJBVAOoBVAIoAvOR9FAG4CsBXIjJhYOVSIOTk5JhdAlkQc0E6zAXpMBekw1wYC/Pje+6D52Yy5yml1nVdICJnA/iXd51rBlwdDcj06dPNLoEsiLkgHeaCdJgL0mEujPkzB/sMAI91b64BQCn1LoDHAZw10MJo4EpKSswugSyIuSAd5oJ0mAvSYS6M+dNgjwSQ38vyfPR+K3UKkqSkJLNLIAtiLkiHuSAd5oJ0mAtj/jTYpQBO7mX5id51yGS1tbVml0AWxFyQDnNBOswF6TAXxvxpsF8FcLGI/E5ERnS8KCLDReR+AJcAeCVQBZL/oqKizC6BLIi5IB3mgnSYC9JhLoz5e5LjCgA/A/ATEdnnfX08ACeALwH8JjDlERERERENLf0ewVZKNcIzReQmAO8DOOx9vAfgRgCnKKWaAlgj+am5udnsEsiCmAvSYS5Ih7kgHebCmD8j2FBKuQA85X2QRcXH81xT6om5IB3mgnSYC9JhLowN+FbpZF0VFRVml0AWxFyQDnNBOswF6TAXxvo9gi0iv+zDakopdZ8f9VAApaamml0CWRBzQTrMBekwF6TDXBjzZ4rIPd2+VgBE8xobbJPt2rULxx57rNllkMUwF6TDXJAOc0E6zIUxUUr17xtEJnb5MgFABoCVANZ3XU8ptWfA1flh8eLFKj093YwfTUREREQhREQylFKLu7/uz1VE9nQ8AHTcK7Oi6+tmNdd0tIyMDLNLIAtiLkiHuSAd5oJ0mAtj/R7BPuqbRUYBOADgNKXUxwGragA4gk1EREREwRCwEWwaOvgJk3SYC9JhLkiHuSAd5sIYR7CJiIiIiPwQsBFsEXm24wHgb/BcMeSnXV8XkWcCUDMNUHZ2ttklkAUxF6TDXJAOc0E6zIUxf64i4u7Dakop5fSvpIHhCHYnl8uFsDC/btZJNsZckA5zQTrMBekwF50CeRURRx8epjTXdLSCggKzSyALYi5Ih7kgHeaCdJgLYzzJ0cZSUlLMLoEsiLkgHeaCdJgL0mEujPkzB7tIRM4fjGIosKqqqswugSyIuSAd5oJ0mAvSYS6M+TOCPQlAXIDroEEQF8e3iXpiLkiHuSAd5oJ0mAtjnCJiY21tbWaXQBbEXJAOc0E6zAXpMBfG/G2w/b94NgWN292XC75QqGEuSIe5IB3mgnSYC2P+Ntgvikh7Lw9XQKskv8TExJhdAlkQc0E6zAXpMBekw1wY8/cihl8AKApkIRR41dXVGDlypNllkMUwF6TDXJAOc0E6zIUxfxvs1UqplwJaCQXc+PHjzS6BLIi5IB3mgnSYC9JhLozxJEcb2717t9klkAUxF6TDXJAOc0E6zIUxNtg2NnPmTLNLIAtiLkiHuSAd5oJ0mAtj/jTY9wLYGuhCKPCysrLMLoEsiLkgHeaCdJgL0mEujIlS9rri3uLFi1V6errZZRARERGRzYlIhlJqcffX/ZoiIiKxInKviGwVkQbvY6uI3CMisQMvlwIhIyPD7BLIgpgL0mEuSIe5IB3mwli/R7BFJAHA5wBmATgAYJd30XQAowHsALBCKVUdwDr7jCPYRERERBQMgRzB/jWAmQBuAzBeKbVCKbUCwHgAtwKYAeCePhZ1lojsFJECEbmzl/W+LSJKRHrsAPmWmZlpdglkQcwF1TW1YUd5PbbvqzvyeP2jTUf+nF9xCM1t7WaXSRbA4wXpMBfG/BnBLgHwrlLqJh/LnwRwllIq1WA7TnhGv08HUApgM4DLlVK53dYbBuAdABEAblNK9To8zRHsTm63Gw4HLxRDR2MuQoNSChX1LSiobEBB5SEUHGjw/vkwqhpaDL9fBJgwMgZTR8di2pi4Lo9hGBEdHoQ9ICvg8YJ0mItOvkaw/bnRTBKALb0szwRwdR+2swRAgVKqyFvgywAuAJDbbb37APwBwE/7X2poy8vLw+zZs80ugyyGubAvt1shq7QW723fjw+2V6Co6rDf21IKKKluREl1Iz7ZeeDI6yLAwtSROPOYJJwxeywmJfK0Gzvj8YJ0mAtj/nz8qACwoJflC7zrGEkGsLfL16Xe144QkYUAJiil3ultQyJyo4iki0h6eXk5qqqqUF5ejrKyMgsNCBwAACAASURBVNTU1KCwsBBNTU3Izc2F2+0+8quNjkn6mZmZcLvdyM3NRVNTEwoLC1FTU4OysjJ0bK+4uBgNDQ3Iy8uDy+VCdnb2UdvoeM7JyUFLSwvy8/NRX1+PkpISVFZWorKyEiUlJaivr0d+fj5aWlqQk5Oj3UZ2djZcLhfy8vLQ0NCA4uJiv/Zp4sSJttsnO75Pwd6n5ORk2+2THd+nvu5TTV091n6+DT/+52Ys+e0H+NZj67H6f0UDaq57oxSQsacG96/Lw8kPfIoz//oZfvbi58jcfQC7du3i+2SzfWpoaLDdPtnxfQr2PsXGxtpun/x9n3zxZ4rIowBugme+9VNKKbf3dQeA6wE8Cs+t1G8z2M5F8Ewlud779SoASzu+z7u9jwFco5QqFpFPAfyEU0T6rrCwEFOnTjW7DLIY5sIe9lY34pkvduP1zFIcanaZXQ4AIGVkNK5aPhGXL0nFsChOI7EDHi9Ih7noFMgpIr+EZ970YwDuFZGd3tdnwHMVkQIAv+rDdsoATOjydYr3tQ7DAMwB8KmIAMBYAG+JyPlGTTZ5JCQkmF0CWRBzMbRtK6vD6s+KsC6nHO1u/+5j4HQIUhNiEBXuPPJae7sLTqfnv4S6xlbsq2vu93ZLa5pw/7o8PPxRAa5Yloprj5+MpOFRftVI1sDjBekwF8b63WArpQ56r+bxMwAXAjjOu6gIwNMA/qiUqu/DpjYDSBORyfA01pcBuKLLz6kDkNjxdV9HsKlTY2MjRo4caXYZZDHMxdCjlMJn+VV48rNCfFlwsM/fJwLMGjsc05PijjpRMTUhFhFhR88QLCsrQ3Jy5yy9wy0uFHpPjOx4zi2vx97qJsOfe6jFhdX/K8KzX+zGhfOTceOJU5CWNKzvO0yWweMF6TAXxvwZwYa3gb7L+/CLUsolIrcBeA+AE8CzSqntIvJrAOlKqbf83TZ58Axf0mEuhpZPdlbij//diR3lfRm3ACKcDnxt2iicecxYfH3WGIwZ1rcR5O65iI0Mw9yUeMxNiT/ymlIKhQca8N72Cry/fT+yS+t63WZbu8KrGaV4NaMUp80agzvPnoVpY+L6VA9ZA48XpMNcGPOrwQ4UpdQ6AOu6vfZLH+ueHIya7CQ8nHMgqSfmYmjYc/Aw7ns7Fx/uqDRcNzrcidNmJ+HMY5Jw0vTRfs1/7ksuRATTxgzDtDHDcOsp01Be14QPcivw3vb9WF94EL2d0vPhjkp8uvMArj1hMr536jTO0R4ieLwgHebCWL8bbBHRNsDdKKXUfX7UQwHU0NCAxMRE4xUppDAX1tbU2o7HPi3A6s+K0Opy97puYlwEvnP8ZKxcmor4mIgB/Vx/cjFuRDSuWj4JVy2fhKIDDXj6i914LaPUZ90ut8KTnxXhjS1l+PnZM/HNBcnwnmNDFsXjBekwF8b8uYqIG4AC0NtRUSmlnL0sHzS8ikinhoYGxMXx17F0NObCmpRSWJezH799J9fwBMMpibG44cQp+OaC5KNOVByIQOXiwKEWPL+hGM9v2IO6prZe1100cSTuPf8YzEkeMeCfS4ODxwvSYS46+bqKiL8N9u0A/t3bekqpPf3acICwwe6Ul5eHmTNnml0GWQxzYT17Dh7Gz/+Vg/WFvZ/AOH9CPL578lScPisJDkdgR34DnYvDLS6sTd+Lpz4r6vUDgwhw5dKJuPPsmYiNNHXWImnweEE6zEWnQDfYVyqlXgpUcYHEBruTy+VCWBj/w6KjMRfWoZTnJMB739qOw63tPtcbOzwKvzh3Fr4xd9ygTakYrFw0t7Vj9f+K8NinBWjpZcrLxFExePDS+ViQyisTWAmPF6TDXHTy1WDzNFAb2759u9klkAUxF9ZQc7gVt/wjE3e8ttVncx3hdOCWk6fiox+fhPPnjR/U+cqDlYuocCd+cFoaPvzRSTjrmLE+19tzsBEXPbEBD32YD1d773PPKXh4vCAd5sKYvyPY/wKQBaAFQD2AfQC2KaV2B7zCfuIINhFZ3ef5B/DjtdmoPOT7NrunzhyD/ztvNiYnxgaxssH3RX4V7vnPdhRUNvhcZ0FqPB68dD4mjrLXvhOR/QR6BPtbAH4N4A8AHgfwJoACEdkhIhf6XyYFUkZGhtklkAUxF+ZpbmvHr/+Ti1XPfOWzuU4ZGY1nrl6MZ685LqjNdbBycUJaIt79wQrcfe4sRPs4QXNLSS3OeehzrN28F/0dBKLA4vGCdJgLY/6MYE/0/jEcQASAkQDGA5gH4BIAkwGcoZT6JIB19hlHsInIiooONOC7L2ZiZ8Uhn+tctCgFv/rG7JC5RvTuqsO4/ZUsZO+t9bnOOceOxR8vmoc4ngBJRBYUsBFspdQe76NAKZWrlPpSKfWqUupuAPMB7ARwRwBqpgHiJ0zSYS6C76MdFbjgkS99NtcjosPx2MqFeODieaY112bkYnJiLF67eTm+f+o0+Looyrqc/bjw0S9RdMD3lBIaPDxekA5zYazfI9iGGxS5GsA1SqlTArrhPuIINhFZhdut8MgnBfjrh7t83uXw+Gmj8OeL52PsiL7d0tyuMvZU4/ZXsrC3ukm7fFhUGB66bD5OnZkU5MqIiHwL2lVElFJrzGqu6Wg5OTlml0AWxFwER0OLCze/mIG/fKBvriOcDtx97iy8cO1SSzTXZudi0cQErPv+Cly0KEW7/FCzC9etScfDH+XD7ea87GAxOxdkTcyFsT6NYIvIW/3crlJKXeBfSQPDEexOLS0tiIyMNLsMshjmYvAVHWjAjS9k+LxSxqRRMXhs5SLMHj88yJX5ZqVcvL11H+54bSsafVy+8MxjkvDnS+ZzXnYQWCkXZB3MRSdfI9h9PTqd18+fx+EFCygpKUFaWprZZZDFMBeD6+O8Cvzgn1k41OLSLj95xmg8dOkCjIix1omMVsrFeXPHI23MMNz4Qjr2HGzssfy97RUofPRLPLlqEaaM5u2aB5OVckHWwVwY688UkSuVUo4+PvTXXqKgSkriXEXqibkYPM99uRvXrUn32VzfespUPHP1cZZrrgHr5WLG2GF469YTcNL00drlBZUN+Nbj67G5uDrIlYUWq+WCrIG5MMY7OdpYba3vS19R6GIuAs/tVvjN27m45z+52vnWMRFOPL5yIX565kw4fV0uw2RWzMWImHA8e81xuOXkqdrltY1tWPn0Jry9dV+QKwsdVswFmY+5MMYG28aiosw/cYqsh7kIrOa2dtz6Uiae/kJ/I9tJo2Lw5q3H4+xjxwW5sv6xai6cDsEdZ83EYysXIiai5y9HW11u3PbSFqz+XyFvSjMIrJoLMhdzYYwNNhGRn6oPt+KKpzbi3W37tctPmj4a/771BExPGhbkyuznnGPH4Y1bjkdqQox2+e/ezcMv/70drnZ3kCsjIuqJDbaNNTc3m10CWRBzERjFVYfxrce+RGaJ/lelVyxNxTNXL7bkfGudoZCLGWOH4Y1bvob5E+K1y1/YuAc3vZCBxlb9HHjqv6GQCwo+5sIYG2wbi4/X/ydEoY25GLjMkhp86/H1KNZc4QIAfnbWTPz2wjkIcw6dQ+xQycWouEj884ZlOPMY/UlWH+VV4rInN6LyEBuAQBgquaDgYi6M9ecioueIyNg+rquUUn/1pyAKnIqKCgwfbp3r7JI1MBcD88nOSnz3xQw0t/WcihDhdOBPF8/FBfOTTahsYIZSLqIjnHhs5SL85p1c/P3L4h7Lt5bW4eInNuDF65Zigo8pJdQ3QykXFDzMhbG+3mimv5PalFmX6uONZjrxQvCkw1z4799ZZfjx2my4NHcSHB4VhqeuWoylU0aZUNnADdVcPPPFbvzmHf3VW8YMi8Tz1y3BzLFsBPw1VHNBg4u56DTQW6Wf0s/HqQGomQZo165dZpdAFsRc+OeFDcW4/ZUsbXOdMjIa/7rla0O2uQaGbi6uO2EyHl+5EJFhPf87qzzUgkue2ICMPTUmVGYPQzUXNLiYC2N9GsEeSjiCTUSBpJTC3z4qwF8/1P+HMid5OJ695jiMGcbLVpkpY08NrluzGbWNbT2WRYc78cSqRT5vWkNE5K+BjmDTEJSRkWF2CWRBzEXfud0K9/4n12dzvWxKAv55wzJbNNdDPReLJo7Eqzctx9jhPd+LprZ2XL9mM/6TzRvS9NdQzwUNDubCGEewiYg02trduOO1rXhjS5l2+emzk/Dw5QsQFW7K6SbkQ2lNI1Y98xV2Vx3usUwE+PUFc7Bq2UQTKiMiO+IIdgjiJ0zSYS6MNbe147svZvpsri9alILHVy60VXNtl1ykjIzBqzcvxzHje57YqBTwf29uw2OfFphQ2dBkl1xQYDEXxjiCTUTURWOrCzc+n4EvCqq0y68/YTJ+cc4sOBwS5MqoP+qb23D9mnR8tbtau/y2U6bhx2dMhwjfRyLyH0ewQ1B2drbZJZAFMRe+1Te34apnvvLZXP/0zBm461x7Ntd2y8XwqHA8f+0SnDZLf0OaRz4pwK/fzoXdBpkCzW65oMBgLoxxBNvGXC4XwsL6cy8hCgXMhV7N4VZc/fevsLW0rscyEeA3F87ByqX2nbtr11y42t244/Wt+FemfrrPZcdNwG+/eSycNvzQFAh2zQUNDHPRiSPYIaiggPMMqSfmoqfKQ8247MmN2uba6RA8eOl8WzfXgH1zEeZ04IGL5vk8sfHlzXvxo7VZaGvv7/3UQoNdc0EDw1wYY4NtYykpKWaXQBbEXBxtX20TLl29ETsrDvVYFuF04LGVC4fkrc/7y865cDgEv77gGNx04hTt8n9n7cOt/8hEi6s9yJVZn51zQf5jLoyxwbaxqir9PFIKbcxFpz0HD+PiJzZoL+kWFe7AU1cvxpnHjDWhsuCzey5EBHeePRM/On26dvn7uRW44fkMNLWyye7K7rkg/zAXxthg21hcXJzZJZAFMRceBZWHcPETG1BW29RjWWyEE2u+sySk7vwXCrkQEXz/62m4+9xZ2uWf7TqAa/7+FRpaXEGuzLpCIRfUf8yFMTbYNtbW1vOWwUTMBbCjvB6Xrt6IykMtPZYNjwrDP25YhqVTRplQmXlCKRfXr5iC335zDnRX6Nu0uxqrntmEuqbQ+fvoTSjlgvqOuTDGBtvG3G6etEM9hXoutpbW4vKnNuLg4dYey0bFRuDlG5dj/oR4EyozV6jlYuXSifjzxfOgu3jIlpJarHx6I2o0GQk1oZYL6hvmwhgbbBuLiYkxuwSyoFDORcaeaqx8ahNqG3uOviQNj8QrNy3DbM0dAENBKObiWwtT8MgVCxGm6bK3ldXjsic34oDmtxyhJBRzQcaYC2NssG2sulp/BzMKbaGai/WFVVj1zFc4pJlfmxwfjbU3Lce0McNMqMwaQjUX5xw7Dk9etQgRYT3/O9xZcQiXrt6A8rqe8/RDRajmgnrHXBhjg21j48ePN7sEsqBQzMWnOyvxnb9vRqPmChGTRsVg7c3LMXFUrAmVWUco5qLDqTOT8OzVxyEqvOd/iUVVh3HJ6g3YW91oQmXmC+VckG/MhTE22Da2e/dus0sgCwq1XPx3237c8Hw6Wlw95wymjYnD2puWIzk+2oTKrCXUctHdCWmJeP7apYiNcPZYtre6CZes3oDCAw0mVGauUM8F6TEXxnirdBtzu91wOPgZio4WSrl4Y0spfvLqVrS7ex7nZo0bjhevW4JRcZEmVGY9oZSL3mwpqcHVz36F+uaeU4kS4yLwwnVLMWtc6MzTZy5Ih7noxFulh6CsrCyzSyALCpVc/GPTHvxobba2uZ43IR4v37CMzXUXoZILIwtSR+KfNy5DQmxEj2VVDa247MmNyNpba0Jl5mAuSIe5MMYRbCKynac+K8Jv1+3QLjtu0kg8e81xGBYVHuSqaCjJrziEK57epL2KSGyEE89ccxyWhdi10omoJ45gh6CMjAyzSyALsnMulFJ48MNdPpvrFWmJWHPtEjbXGnbOhT/SkobhVR/z8w+3tuPqZ7/CpzsrTagsuJgL0mEujHEEm4hsQSmF+9ftwFOf60++OWN2Eh6+YgEiw3qexEbky77aJqx8ehN2Vx3usSzcKfjbZQtw9rHjTKiMiKzAkiPYInKWiOwUkQIRuVOz/EcikisiW0XkIxGZaEadQ1VmZqbZJZAF2TEX7W6Fu97c5rO5vmD+eDy6ciGb617YMReBMD4+Gq/ctAwzknpeI72tXeHWlzLxekapCZUFB3NBOsyFMdNGsEXECWAXgNMBlALYDOBypVRul3VOAbBJKdUoIt8FcLJS6tLetssR7E48y5d07JaLVpcbP1ybhXe2lmuXX74kFb+5cA6cunti0xF2y0Wg1Ta24upnv0J2aZ12+f+dNxvXnTA5yFUNPuaCdJiLTlYcwV4CoEApVaSUagXwMoALuq6glPpEKdVxdf+NAFKCXOOQlpeXZ3YJZEF2ysXhFheuW7PZZ3N9/QmTcf832Vz3hZ1yMRjiYyLw4vVLsWRygnb5fW/n4s/v74Tdpl0yF6TDXBgzs8FOBrC3y9el3td8uQ7Au7oFInKjiKSLSHp5eTmqqqpQXl6OsrIy1NTUoLCwEE1NTcjNzYXb7T7yq42OSfqZmZlwu93Izc1FU1MTCgsLUVNTg7KyMnRsr7i4GA0NDcjLy4PL5UJ2dvZR2+h4zsnJQUtLC/Lz81FfX4+SkhJUVlaisrISJSUlqK+vR35+PlpaWpCTk6PdRnZ2NlwuF/Ly8tDQ0IDi4mK/9mnixIm22yc7vk/B3qfk5GRb7FPOriJctno9Ps+v0hwVgEtmx+Kuc2dh69atQ2afzMyew+Gw3T4F+n1qqq/BA+dNwpIJcdrMPfxxAe5+cxu+8v4WdSjsk9H71NDQMOTeJztmz2r7FBsba7t98vd98sXMKSIXAThLKXW99+tVAJYqpW7TrHslgNsAnKSU8r034BSRrgoLCzF16lSzyyCLsUMu9tc1Y9Uzm5Bfqb+z3t3nzsL1K6YEuaqhzQ65CJYWVzt++EoW1uXs1y4/d+44/PWS+YgIG/q/QmcuSIe56GTFKSJlACZ0+TrF+9pRROQ0AHcBON+ouaajJSTof5VJoW2o56LoQAO+/fh6bXPtdAgeuHgem2s/DPVcBFNkmBMPX74Qly9J1S5/Z2s5rluzGYdbet4NcqhhLkiHuTBmZoO9GUCaiEwWkQgAlwF4q+sKIrIAwGp4mmv7X3A0wBobG41XopAzlHOxrawOFz+xAWW1TT2WRYQ58MSVi3DRIp6q4Y+hnAszOB2C+785B7ecrB/F+zy/Ciuf3oSaw61BriywmAvSYS6MmdZgK6Vc8Ez7eA/ADgBrlVLbReTXInK+d7U/AYgD8KqIZInIWz42Rxo8w5d0hmou/rfrAC5dvQEHNQ1LXGQYnr92CU6fnWRCZfYwVHNhJhHBHWfNxF3nzNIuz9pbi28/sR57q4duM8JckA5zYSzMzB+ulFoHYF23137Z5c+nBb0oGwkP593qqKehmIu1m/fi52/koN3d85yRUbERWHPtEsxJHmFCZfYxFHNhFTecOAXxMeG48189M1p04DC++diXePaa4zA3Jd6kCv3HXJAOc2GMH0FsrOPsb6KuhlIulFL46we7cMfrW7XNdXJ8NF69eTmb6wAYSrmwoosXT8DjKxdqT2ysamjFpas34uO8ChMqGxjmgnSYC2NssG0sMTHR7BLIgoZKLtra3bjjta146KN87fIZScPw2neXY8po/SXTqH+GSi6s7IxjxmLNd5ZgWFTPXw43tbXj+jXpeGlTiQmV+Y+5IB3mwhgbbBsrLbXv7XvJf0MhFw0tLlz73Ga86uMW1MunjMLam5dj3IjoIFdmX0MhF0PB8qmj8NrNX8P4EVE9lrkV8Is3cvDAe0PnhjTMBekwF8ZMuw72YOF1sDu5XC6EhZk6zZ4syOq52F/XjGuf24zc8nrt8gvnj8cfL5pni2sMW4nVczHU7K9rxjV//wp5+w9pl39rQTJ+9+1jERnmDHJl/cNckA5z0cmK18GmQbZ9+3azSyALsnIusvbW4vxHvvDZXN9y8lT89VJ73MDDaqyci6Fo7IgovHrzcqxI0/8q/V9bynDFU5tw4JC1b+/AXJAOc2GMI9hEZAlvbinDHa9vRavL3WOZQ4D7LpyDlUsnmlAZkf/a2t248/UcvJ6p/5X6+BFRePKqxTxRl2iI4gh2CMrIyDC7BLIgq+XC7Vb4w3/zcPsrWdrmOjrciaeuWszmepBZLRd2Ee504IGL5+L7X0/TLt9X14yLn9iAd3PKg1xZ3zAXpMNcGOMINhGZ5lBzG374ShY+3KG/UeuYYZF46qrFmDdh6F0/mKi7tZv34q43c9DWrv9/9/bT0vD9U9PgcEiQKyMif3EEOwTxEybpWCUXJQcb8e3H1/tsruemjMBbt53A5jpIrJILO7vkuAn4x/XLkBAboV3+4If5uO2fmWhsdQW5Mt+YC9JhLoxxBJuIgu7TnZW4/ZUs1Da2aZd/Y954/OmiuYgKt/YVFoj8sbe6ETc8n+7zCiOzxg3H4ysXYlJibJArI6L+4gh2CMrJyTG7BLIgM3PR7lb48/s78Z3nNvtsrn9yxnT87bL5bK6DjMeL4JmQEIPXv/s1nD47Sbt8R3k9vvHwF/jvNvPnZTMXpMNcGOMIto21tLQgMjLS7DLIYszKxYFDLfjBy1uwvvCgdnlMhBN/uWQ+zpozNsiVEcDjhRncboW/fLALj3xS4HOd606YjDvPnolwpznjYcwF6TAXnTiCHYJKSobWLXkpOMzIxVe7q3Hu3z732Vwnx0fj9e9+jc21iXi8CD6HQ/CTM2fgocvmI9LHtd2f+WI3Ll29Aftqm4JcnQdzQTrMhTE22DaWlKT/9SOFtmDmQimFJ/5XiMuf2ohKHzfUWJGWiLduOx6zxg0PWl3UE48X5rlgfjJe/+7XkJoQo12eWVKLc//2Of6360CQK2MuSI+5MMYG28Zqa2vNLoEsKFi5OHCoBdetScfv381Du7vnVDQR4IenTcdz31mCUXH8VaPZeLww15zkEfjP907AGT7mZdc0tuGav3+FP/w3T3u9+MHCXJAOc2GMDbaNRUVFmV0CWVAwcvHe9v0488HP8HGe/hJ8o2Ij8Py1S/CD09Lg5DV/LYHHC/ONiA7H6lWLcNc5s7T/LpQCHv+0EBc++iV2VeivQBJozAXpMBfG2GATUcA0tLhwx2vZuOmFDFQfbtWus3jiSLzz/RVYkTY6yNURWZ+I4IYTp+DlG5chabj+Nzu55fU47+Ev8MwXu+HW/HaIiMzHBtvGmpubzS6BLGiwcrG5uBpnP/QZ1qaX+lznxhOn4J83LsPYERz9sBoeL6zluEkJeOf7K3DCtETt8laXG/e9nYsrn9k0qCdAMhekw1wYY4NtY/HxvAMe9RToXLS42vGH/+bhktUbsLda/x/9qNgIPHXVYvzinFmmXW6MesfjhfUkxkVizbVL8JMzpiPMx1Sq9YUHceaDn+HNLWUYjMvuMhekw1wY4/90NlZRUWF2CWRBgczFpqKDOPdvX+DxTwvh6//2r88cg//efqLPm2qQNfB4YU1Oh+C2U9Pwxi3HY+po/Z0dDzW7cPsrWbhuTTr2VjcG9OczF6TDXBjjjWZsjBeCJ51A5KLmcCt+9+6OXqeDxEQ48cvzZuPS4yZAhCcyWh2PF9bX1Or5bdFz64t9rhMd7sTtp6Xh2hMmB+S3RcwF6TAXnXijmRC0a9cus0sgCxpILpRSeD2jFF//y/96ba4XpsZj3fdX4LIlqWyuhwgeL6wvOsKJe84/Bs9fu8TnCZBNbe343bt5+MbDXyCzpGbAP5O5IB3mwhhHsImoT4oONODuN7f5vBsjAIQ5BD88fTpuOnEKwjjXmmjQ1Da24u43t+HtreU+1xEBrlw6ET89awaGR4UHsTqi0MER7BCUkZFhdglkQf3NRV1jG377Ti7OetD3rc4BYP6EeLx12wm49ZRpbK6HIB4vhpb4mAg8csVCPL5yoc/RbKWAFzbuwakPfIoXN+6Bq73/N6hhLkiHuTDGEWwi0mpxteOFDXvw8McFqGtq87nesMgw3HH2TFyxJJU3jSEywaHmNvz5/V1Ys6HY58nGADB1dCx+cc4snDpzDKduEQUIR7BDED9hko5RLpRSeGdrOU7/y2f4zTs7em2uz507Dh/9+CSsWjaRzfUQx+PF0DUsKhz3nH8M3rzleBwzfrjP9QoPHMZ1a9Jx+VMbkVNa16dtMxekw1wY4wg2ER3x1e5q/O7dHdhSUtvreikjo3HfhXNwyowxQaqMiPrC1e7Gc+uL8ZcPdqGxtb3XdS+cPx4/PmMGJiTEBKk6IvvhCHYIys7ONrsEsqDuuVBK4fP8A7h09QZcsnpDr811VLgD3zt1Gj744Ulsrm2Gxwt7CHM6cP2KKfjgRyfh/Hnje133zax9OPmBT/GjtVkoqGzQrsNckA5zYYwj2DbmcrkQFhZmdhlkMR25UErhox2VePiTAmTv7X3EWgS4aGEKfnzGDN7m3KZ4vLCnrL21uP+dHfiquLrX9USAc+aMw62nTMPsLtNMmAvSYS46+RrBZoNtY3l5eZg5c6bZZZDFbM/dgd2uEXjk4wLk7T9kuP6KtET8/OxZR/2nS/bD44V9KaXwQW4Ffv9uHoqqDhuuf9qsMbj1lGlYkDqSuSAt5qITG+wQ1NDQgLi4OLPLIIs42NCCV9L34sUNxdhX12K4/syxw/Dzc2bhpOmjB784Mh2PF/bX1u7Gy1+V4K8f5qP6cKvh+gtS43HJgrH41nGTEBnmDEKFNFTweNHJV4PN8X0bq6qq4j+AEKeUQtbeWrywYQ/ezilHq8v4OrjTxsTh1lOm4vx5ybwySAjh8cL+wp0OrFo+CRcuSMbzG/bg6c+LUNPo+ypBW0pqsaWkFn/6sAiXHjcBK5emImUkT4gkHi/6giPYNlZVVYXExESzyyATNLS4sG5rOV7YuAc5ZX27s+06CwAAE29JREFUHNcx44fje6dOwxmzx8LBxjrk8HgRehpbXXhpUwme/KwIlYeMf6vlEODUmUlYuSwVK6Yl8oZSIYzHi04cwQ5BbW2+RybIflpdbvxv1wG8mVWGD3Mr0NKH0WoAWJgaj++dmoaTZ4zmzSdCGI8XoScmIgzXr5iCK5dNxKsZpXji00KU1Tb5XN+tgA93VODDHRVIjIvAeXPH44L54zF/QjyPHSGGxwtjbLBtzO3u/21xaWhxuxXS99TgzawyrMspR20vv+7tSgQ4ZcYYXH/CZCyfOor/ORKPFyEsKtyJVcsm4rLjJuDNLWX4+5fFyC2v7/V7qhpa8dz6Yjy3vhiTRsXg/PnJuHD+eEwZzWkDoYDHC2OcImJjNTU1GDlypNllUIA1t7VjfWEVPtxRiY93VGJ/fXOfvzc+JhwXzBmN606agdRRnEtJnXi8oA5KKWSW1OD5DXvwztZyuNx97xNmjh2G02Yl4dRZYzA/JZ7TzWyKx4tOnCISgqqrq/kPwCYq6pvx0Y5KfJxXgS8KqtDc1r/Rg3kpI7Bq+SScN3ccykqK2VxTDzxeUAcRwaKJCVg0MQGr5sRg0wEn/rFxD/bVGX+Yz9t/CHn7D+GRTwqQGBeBk2eMwWmzxuCEtNGIi2TLYRc8XhjjCLaNNTU1ITo62uwyyA9VDS34anc1NhYdxMaig9hVob/LWm9GxoTjvLnjcdGiFMybEH/kdeaCdJgL0unIhavdjY/zKvHGljJ8lFfZpysSdRXuFMxLiceyKaOwbMooLJwYj5gINtxDFY8XnXgd7BCUm5uL2bNnm10GGVBKobSmCdmltdhU5Gmq833ctthIVLgDZ8weiwsXjMeKtNEI15zlz1yQDnNBOrpc1DW14b1t+/HGljJs3H0Q/rQR4U7B3JR4LJuSgOMmJWBeSjxGxkYEqGoabDxedGKDHYLcbjccDl5GyUqUUqiob8HW0lrklNVha2kdcsrq+nTTB1/CnYLlUxNx4fzxOOOYsYa/hmUuSIe5IB2jXOyva8Zb2WV4K3sftpX1fmKkkQkJ0ZibHI9jU0ZgbvIIzEkZgeFR4QPaJg0OHi86scEOQZmZmVi4cKHZZYSsgw0tyK9sQH7FIe9zA/IrD6Gqwf9mukNCbAROnjEap81Kwoq0RAzrx39CzAXpMBek059clNc1ec8VqcSXBVV9vlRobyYkRCNtzDCkJcV5nsfEYdqYOMRyPrepeLzoxAabKMDcboXKQy0oqW488ij1PhdVHR7QqLTOzLHDcOrMMfj6rCTMnxDPuywSkWU1tbbjy4IqfJRXiU/y+ne1o75Ijo/GpMQYpCbEYEKC57njMSI6nJcepaBhgx2CMjIysGjRIrPLGHLcboX65jYcPNyK6sOtqKhvxv66Zs9zfQsq6pqxv97z6O+JPv0xI2kYlk1JwNIpo7BkcgIS4yIDsl3mgnSYC9IJRC6UUthzsBEbiw5i0+5qbCg8GPCGu6u4yDCMHRGFscOjkDQ8CmNHRB758+hhkUiMi0RCbARiIpxsxP3E40UnNtgUMpRSaHG50djajsMtLhxudeFwiwsNLe2oa2pDfVOb57m5DfVNLtQ3taGm0dNMdzTV7f247msgRIY5MHv8cMxLicfSyQlYMjkBowLUUBMRWYlSCiXVnob7q901yCmrRUFlA4J82EVkmAOjYiOQEBeBhNhIxEeHY0R0OIZHh3meo8Ix3PscG+lEXGQYYiLDEBcRhphIp/Ykcgo9lrwOtoicBeAhAE4ATyulft9teSSA5wEsAnAQwKVKqWKj7br7+a800P+me/vQ0tvP6u2zjvJ+Z/d1un7dfZ2srCzMmz//SD2q6/rKs75SHa+rI8uPvK4At/f1jr9Tt1JHXncrz/e5vV+3u1WX5y6vuRXalYLLrdDe7n12K7jcbs9zu0JruxuudjdcboW2dgVXuxut7W60utxocXX+uePR7GpHc1s7mtrcaGlrR1Ob9+vWdjS2tvfrxgjBFu4UzBw7HMemjMC8lBE4NjkeaUlxQTtYc+4c6TAXpDMYuRARTBwVi4mjYnHpcakAgMMtLuSW12NraZ3nJPDSOhRVHQ7oz+2uxeXGvrrmPl3fWycizIGYCCeiw52IOvJwdPnagQinAxFh3ofT2eXPgjCnA2EOQUSYA2EOB8KcgnCnwOnwvO50SJdnBxwOwCkCh0PgEM/rnq8Bh4j34fn7dUjnayLwPrzL4XmG988igMCz3PPseR3e74NnVc+z94XsrCzMnz+/y3LxLu/599R9HZ3efpHga9Fg/PYhkFs0bQRbRJwAdgE4HUApgM0ALldK5XZZ5xYAc5VSN4vIZQC+qZS6tLftRo5LU+OufnAQKyfqmwinA1NGx2LaGM/JOdOT4pCWFIeJo2JNHfng2d+kw1yQjpm5aGx1oeDICeKdJ4zvrWn069KARINhzx/Os9wI9hIABUqpIgAQkZcBXAAgt8s6FwC4x/vn1wA8IiKi7DavhYasuMiwzpNrRh19ss2EkdEIs+CvEPPy8nj9UuqBuSAdM3MRExGGuSnxmJsSf9TrTa3t2FN9GCUHG486ydxzonkTWtsH79wYor4y83//ZAB7u3xd6n1Nu45SygWgDsCo7hsSkRtFJF1EOPmaAiI63IGxcWE4Nnk4liRHY+XSVFx2TBz++O25uHvFSLx3+4n4x7fHY8vdp+IvZ47GA9+cgStmR+PsabGYPsyFiJZaHKqvQ2FhIZqampCb+//t3X+MXWWdx/H3Z+78KuVXC0bItIL80FgFhVXZDbsBlZCKDUaCUX5FrIq/GtGgm0U2rj82yybu+mNlEyGKStWoQUAkogLWGIkYsHasrYUy7GxldrCM1gzTdqZz5373j+fc6entmZna3jvnOvN5JZN7z3Oee+733D65/faZ7/N0K7VajY0bNwJpgQikX7/WajW2bt3K3r17GRgYYNeuXQwNDTE8PMzIyAiDg4OMjY2xbds2qtUq/f39B1yj/rh582YmJibYvn07o6Oj7Nixg507d7Jz50527NjB6Ogo27dvp6+vj82bNxdeo7+/n2q1yrZt2xgbG2NwcJCRkRGGh4cZGhpi165dbXlPExMTvqcjvKeOjo4Fd08L8c9pvu9pbGys7e5pSXeF3UPbufilJ3He8bu5afWZ3PT3y7jnXefy4+tWcf+7X8EdV63i5ktO4Z9Xn8FVr1jOZeeczDkn97Lq5GNZviSVbpi1UpklIpcDqyPindnxNcB5EbEu1+e3WZ+ns+OBrM/ITNd1iYgBdHaIpT2daVFKd4WlPZ0s7alML1xJC1nqC1jSgpYTlvaw/OhuTljaTW9XpexbaJmBgQFOP/30ssOwNuNxYUUW6riICMYmqtOL23ft3pdbBF9ldHxy+nh0fJI9+6YYm6iyZ2L/4vk2Xupj86gdS0SGgJW54xVZW1GfpyV1AseRFjvO6nDq3ptdKj9b8f1s7zV7of+Bqw32Lzo4uI+UvkA6VD/W/tfkXi/NsMChYTHE9OsFlY79Cyc68v06RKVxEUa2AKOzo+OABRuV3AKOzkoHXZUOuippIUdXp+jqSG3TC0I6O+jJHfd2ddDbWaG3u0JvZ4Ul3ZXptqN6KvR0LtwE+UgtX7687BCsDXlcWJGFOi4kcUxvF8f0dnHKCUv/4tdHBOOTNfbsqzJerbF3X1pon35q7J2cYqI6tX9xfn7RfrVGtVZjciqYnKpRzR4np9Li//qGAFNR3xAgmKqlfvUNBvKbCkzVYnqDgvoGA5HbaKA+j5pvn97coGijg+x5fVeGyN1z/Tg9V3Z88CYM0fAkZtniYfYNHmb+/Jut2VcsM8F+FDhT0gtJifRbgSsb+twLvA34BXA58JO56q/P6juOx25+QwvC/eszNDREX19j1Y0tdnv27GHZsmVlh2FtxuPCinhcFJPEku40ubMYOb/YT/9e3F5agh0RVUnrgB+Rtum7PSK2SPok8FhE3At8GVgv6UngT6Qk3A6RdwSwIh4XVsTjwop4XFgRj4u5lboPdkT8APhBQ9vHcs/HgTfPd1wLRVdXV9khWBvyuLAiHhdWxOPCinhczG3B/U+Okp4F/rfsONrEicCMC0Jt0fK4sCIeF1bE48KKeFzsd0pEPK+xccEl2LafpMeKVrba4uZxYUU8LqyIx4UV8biYm4tozMzMzMyayAm2mZmZmVkTOcFe2G4rOwBrSx4XVsTjwop4XFgRj4s5uAbbzMzMzKyJPINtZmZmZtZETrAXCUk3SApJJ5Ydi5VP0qclbZP0G0l3Szq+7JisHJJWS3pc0pOS/qnseKx8klZK2iBpq6Qtkq4vOyZrH5Iqkn4t6b6yY2lnTrAXAUkrgYuBHWXHYm3jAeBlEXE28ARwY8nxWAkkVYD/Bl4PrAKukLSq3KisDVSBGyJiFfC3wPs9LizneuB3ZQfR7pxgLw6fBf4RcMG9ARARP46Ianb4CLCizHisNK8GnoyIpyJiH/At4I0lx2Qli4jhiNiYPX+OlEz1lRuVtQNJK4A3AF8qO5Z25wR7gZP0RmAoIvrLjsXa1lrg/rKDsFL0Ab/PHT+NEynLkXQqcA7wy3IjsTbxOdKEXa3sQNpdZ9kB2JGT9CBwUsGpm4CPkspDbJGZbVxExPeyPjeRfh38jfmMzczan6Sjge8CH4yI0bLjsXJJWgPsjIhfSbqw7HjanRPsBSAiLipql3QW8EKgXxKkMoCNkl4dEc/MY4hWgpnGRZ2ka4E1wOvC+3UuVkPAytzxiqzNFjlJXaTk+hsRcVfZ8VhbOB+4VNIlQC9wrKSvR8TVJcfVlrwP9iIiaRB4ZUSMlB2LlUvSauAzwAUR8WzZ8Vg5JHWSFrm+jpRYPwpcGRFbSg3MSqU0I/M14E8R8cGy47H2k81gfzgi1pQdS7tyDbbZ4nQLcAzwgKRNkr5YdkA2/7KFruuAH5EWsn3HybWRZiqvAV6bfT9symYtzewQeQbbzMzMzKyJPINtZmZmZtZETrDNzMzMzJrICbaZmZmZWRM5wTYzMzMzayIn2GZmZmZmTeQE28zMzMysiZxgm5m1gKTLJd0p6SlJ45J2S3pC0u2SXll2fGZm1jreB9vMrAUk3QksBx4AhrPmPuCtwCrgHRHx1XKiMzOzVnKCbWbWApK6I2JfQfvRwACwOyJOm//IzMys1VwiYmbWAkXJddY+BvwRqNXbJP1U0mBRf0mDkn7a0PYWSfdK2iFpQtKIpHsknd3Q71RJIenjh9guSe+V9CtJeySNSdog6TWH8vrs3IXZuWtzbddmbRc29F2btR800yPpTEnrJQ1L2pd9Dp+WtLToczIzayedZQdgZraQSToKOAroAk4G3g68OHs8XOtISfptwDPA6cB1wMOSzo2I7Yd53fXAFcCdwFeAHuAq4AFJl0XEvUcQ8wEkHQv82wzn/gb4CfBn4FZgCHg58AHgfEkXRMRks2IxM2s2J9hmZq31SeCG3PFzwBUR8Z0juObqiNidb5B0B7AJ+BDwvqy5PkuuuS4o6U2kZPrdEXFbrv3zwCPA5yV9P5pXV/gx4GjgQeCihnO3k+rWXxURz+VieQi4K4vzq02Kw8ys6Zxgm5m11q3AD4Fe4AXAWuCbko7PJ7JAh6QTC15/UClfPbmWJOAYoBt4FngcOC/XdScQ2fvO5WpS8n9PQRzfBz4OnAk8kWs/qqDvcXO9kaQXkWajP5FdM3/uLOBs4F+AHkk9udM/B3YDF+ME28zamBNsM7MWyso1pks2JN0KbAD+S9J9EfF/2amVpCS5yFP5A0nnAJ8CLgQaa5L/J/fe45IeBd4s6S7gl6RZ7WUF7/ESUrL+h1lu5/kcmGB/JPv5S30WeBr4T+CLBXFASr4/MUscZmZtywm2mdk8iogpSd8E/oE023x3duoPpFnkRl/PH0h6AfAzYJSUZD9OmtUN4HOksou867L3mKt+WqQE/8pZ+vy24Xg9cEdD28uB/5jxTaRLgEuAy7J/ABTFASn5/uEMl9k1S4xmZqVzgm1mNv+WZI9TubbxiHiwsaOk8YamN5GS6EsjYkND3xOAiXxbRPRLejHwUqBezvF8GhJ30iz7i4BHsp1ODsVTjTFLqs7Sv4s0e/1QRNw9Q5/6bP9U0edhZvbXwNv0mZm1gKQ1kg6axMj2wV5LmnX+2WFcup6UHzD1K+ldwElFL4iIyYjYFBEPZknrwwXd7iD9nXBz0TUkNaMs4wPAacD1s/T5NWmm/D2SDtonXFKnpOVNiMXMrGU8g21m1hr/CnxB0reBJ0nJ62mkMpDnAVdHxJ8P47r3A3uA9ZJuIZVLnE8quxjgML/XI+JOSV8B1kk6F7gPGAFWAH8HnJHFfyTWAF+IiC2zxBGSriFt0/cbSbcDW0hbHZ4BXAbciBc5mlkbc4JtZtYanwIuJ5V0rCR93/6elLh+JiKemOW1M4qIAUmvJ+0h/VHSjPbDwAXALcCphxtwRKyVtIFUt30jaXeSZ4CN2fGR+iNpd5C54tiULeS8EbgUeA9ph5NBUmL9UBNiMTNrGf9X6WZmZmZmTeQabDMzMzOzJnKCbWZmZmbWRE6wzczMzMyayAm2mZmZmVkTOcE2MzMzM2siJ9hmZmZmZk3kBNvMzMzMrImcYJuZmZmZNZETbDMzMzOzJnKCbWZmZmbWRP8PrNyZgMjTRNQAAAAASUVORK5CYII=\n",
        "metadata": {
         "needs_background": "light",
         "tags": []
        },
        "output_type": "display_data",
        "text/plain": "<Figure size 864x360 with 1 Axes>"
       }
      ]
     }
    },
    "52fe94c8573a41a59ea19c7b98667922": {
     "model_module": "@jupyter-widgets/controls",
     "model_name": "SliderStyleModel",
     "state": {
      "_model_module": "@jupyter-widgets/controls",
      "_model_module_version": "1.5.0",
      "_model_name": "SliderStyleModel",
      "_view_count": null,
      "_view_module": "@jupyter-widgets/base",
      "_view_module_version": "1.2.0",
      "_view_name": "StyleView",
      "description_width": "",
      "handle_color": null
     }
    },
    "5b1a11a00ef04e08819157097dbf42b7": {
     "model_module": "@jupyter-widgets/controls",
     "model_name": "SliderStyleModel",
     "state": {
      "_model_module": "@jupyter-widgets/controls",
      "_model_module_version": "1.5.0",
      "_model_name": "SliderStyleModel",
      "_view_count": null,
      "_view_module": "@jupyter-widgets/base",
      "_view_module_version": "1.2.0",
      "_view_name": "StyleView",
      "description_width": "",
      "handle_color": null
     }
    },
    "647ff19068d1427d950481641dd4eabc": {
     "model_module": "@jupyter-widgets/controls",
     "model_name": "HBoxModel",
     "state": {
      "_dom_classes": [],
      "_model_module": "@jupyter-widgets/controls",
      "_model_module_version": "1.5.0",
      "_model_name": "HBoxModel",
      "_view_count": null,
      "_view_module": "@jupyter-widgets/controls",
      "_view_module_version": "1.5.0",
      "_view_name": "HBoxView",
      "box_style": "",
      "children": [
       "IPY_MODEL_e90b4fe5e45245a99c24a94408b20ec2",
       "IPY_MODEL_ad101776b67f413887b890584e9479b9"
      ],
      "layout": "IPY_MODEL_bac3b63826614e3690de954c37521fff"
     }
    },
    "64f1017d5ab548879dfde6bfec27d40d": {
     "model_module": "@jupyter-widgets/base",
     "model_name": "LayoutModel",
     "state": {
      "_model_module": "@jupyter-widgets/base",
      "_model_module_version": "1.2.0",
      "_model_name": "LayoutModel",
      "_view_count": null,
      "_view_module": "@jupyter-widgets/base",
      "_view_module_version": "1.2.0",
      "_view_name": "LayoutView",
      "align_content": null,
      "align_items": null,
      "align_self": null,
      "border": null,
      "bottom": null,
      "display": null,
      "flex": null,
      "flex_flow": null,
      "grid_area": null,
      "grid_auto_columns": null,
      "grid_auto_flow": null,
      "grid_auto_rows": null,
      "grid_column": null,
      "grid_gap": null,
      "grid_row": null,
      "grid_template_areas": null,
      "grid_template_columns": null,
      "grid_template_rows": null,
      "height": null,
      "justify_content": null,
      "justify_items": null,
      "left": null,
      "margin": null,
      "max_height": null,
      "max_width": null,
      "min_height": null,
      "min_width": null,
      "object_fit": null,
      "object_position": null,
      "order": null,
      "overflow": null,
      "overflow_x": null,
      "overflow_y": null,
      "padding": null,
      "right": null,
      "top": null,
      "visibility": null,
      "width": null
     }
    },
    "694742784c9e40fb852585ab50fcdc3f": {
     "model_module": "@jupyter-widgets/base",
     "model_name": "LayoutModel",
     "state": {
      "_model_module": "@jupyter-widgets/base",
      "_model_module_version": "1.2.0",
      "_model_name": "LayoutModel",
      "_view_count": null,
      "_view_module": "@jupyter-widgets/base",
      "_view_module_version": "1.2.0",
      "_view_name": "LayoutView",
      "align_content": null,
      "align_items": null,
      "align_self": null,
      "border": null,
      "bottom": null,
      "display": null,
      "flex": null,
      "flex_flow": null,
      "grid_area": null,
      "grid_auto_columns": null,
      "grid_auto_flow": null,
      "grid_auto_rows": null,
      "grid_column": null,
      "grid_gap": null,
      "grid_row": null,
      "grid_template_areas": null,
      "grid_template_columns": null,
      "grid_template_rows": null,
      "height": null,
      "justify_content": null,
      "justify_items": null,
      "left": null,
      "margin": null,
      "max_height": null,
      "max_width": null,
      "min_height": null,
      "min_width": null,
      "object_fit": null,
      "object_position": null,
      "order": null,
      "overflow": null,
      "overflow_x": null,
      "overflow_y": null,
      "padding": null,
      "right": null,
      "top": null,
      "visibility": null,
      "width": null
     }
    },
    "6d354f92a37444b5809a07db648e93d6": {
     "model_module": "@jupyter-widgets/controls",
     "model_name": "HBoxModel",
     "state": {
      "_dom_classes": [],
      "_model_module": "@jupyter-widgets/controls",
      "_model_module_version": "1.5.0",
      "_model_name": "HBoxModel",
      "_view_count": null,
      "_view_module": "@jupyter-widgets/controls",
      "_view_module_version": "1.5.0",
      "_view_name": "HBoxView",
      "box_style": "",
      "children": [
       "IPY_MODEL_dfeffd287e5c44a3804b19f2b5cc85b4",
       "IPY_MODEL_1f6bcf7fe96c474d9722bae968cb1348"
      ],
      "layout": "IPY_MODEL_0d7846b6eebc4b618f1fcb3067c19476"
     }
    },
    "72b567b07ea248feacd8b5b092d2eaa9": {
     "model_module": "@jupyter-widgets/base",
     "model_name": "LayoutModel",
     "state": {
      "_model_module": "@jupyter-widgets/base",
      "_model_module_version": "1.2.0",
      "_model_name": "LayoutModel",
      "_view_count": null,
      "_view_module": "@jupyter-widgets/base",
      "_view_module_version": "1.2.0",
      "_view_name": "LayoutView",
      "align_content": null,
      "align_items": null,
      "align_self": null,
      "border": null,
      "bottom": null,
      "display": null,
      "flex": null,
      "flex_flow": null,
      "grid_area": null,
      "grid_auto_columns": null,
      "grid_auto_flow": null,
      "grid_auto_rows": null,
      "grid_column": null,
      "grid_gap": null,
      "grid_row": null,
      "grid_template_areas": null,
      "grid_template_columns": null,
      "grid_template_rows": null,
      "height": null,
      "justify_content": null,
      "justify_items": null,
      "left": null,
      "margin": null,
      "max_height": null,
      "max_width": null,
      "min_height": null,
      "min_width": null,
      "object_fit": null,
      "object_position": null,
      "order": null,
      "overflow": null,
      "overflow_x": null,
      "overflow_y": null,
      "padding": null,
      "right": null,
      "top": null,
      "visibility": null,
      "width": null
     }
    },
    "7786302ba9a641d986e4d79c8716e33b": {
     "model_module": "@jupyter-widgets/controls",
     "model_name": "SliderStyleModel",
     "state": {
      "_model_module": "@jupyter-widgets/controls",
      "_model_module_version": "1.5.0",
      "_model_name": "SliderStyleModel",
      "_view_count": null,
      "_view_module": "@jupyter-widgets/base",
      "_view_module_version": "1.2.0",
      "_view_name": "StyleView",
      "description_width": "",
      "handle_color": null
     }
    },
    "7a097f78f1db48669c8886474899d0e1": {
     "model_module": "@jupyter-widgets/controls",
     "model_name": "IntSliderModel",
     "state": {
      "_dom_classes": [],
      "_model_module": "@jupyter-widgets/controls",
      "_model_module_version": "1.5.0",
      "_model_name": "IntSliderModel",
      "_view_count": null,
      "_view_module": "@jupyter-widgets/controls",
      "_view_module_version": "1.5.0",
      "_view_name": "IntSliderView",
      "continuous_update": true,
      "description": "grid_size",
      "description_tooltip": null,
      "disabled": false,
      "layout": "IPY_MODEL_88602113606f466b976569708842106c",
      "max": 300,
      "min": 25,
      "orientation": "horizontal",
      "readout": true,
      "readout_format": "d",
      "step": 25,
      "style": "IPY_MODEL_3554e3cee4a24a1ca4f3e7a423cffc6f",
      "value": 300
     }
    },
    "80a262b2ac68452c9b2f2c510cc341a6": {
     "model_module": "@jupyter-widgets/controls",
     "model_name": "FloatSliderModel",
     "state": {
      "_dom_classes": [],
      "_model_module": "@jupyter-widgets/controls",
      "_model_module_version": "1.5.0",
      "_model_name": "FloatSliderModel",
      "_view_count": null,
      "_view_module": "@jupyter-widgets/controls",
      "_view_module_version": "1.5.0",
      "_view_name": "FloatSliderView",
      "continuous_update": true,
      "description": "ymax",
      "description_tooltip": null,
      "disabled": false,
      "layout": "IPY_MODEL_c5dd934a16e34a7287060ff5bdc93da0",
      "max": 2,
      "min": 0,
      "orientation": "horizontal",
      "readout": true,
      "readout_format": ".2f",
      "step": 0.1,
      "style": "IPY_MODEL_b70ce5b33aa94df4a18ecec83def24b3",
      "value": 1
     }
    },
    "81900fdfa48a4fa4a98da4bb8f81bc43": {
     "model_module": "@jupyter-widgets/base",
     "model_name": "LayoutModel",
     "state": {
      "_model_module": "@jupyter-widgets/base",
      "_model_module_version": "1.2.0",
      "_model_name": "LayoutModel",
      "_view_count": null,
      "_view_module": "@jupyter-widgets/base",
      "_view_module_version": "1.2.0",
      "_view_name": "LayoutView",
      "align_content": null,
      "align_items": null,
      "align_self": null,
      "border": null,
      "bottom": null,
      "display": null,
      "flex": null,
      "flex_flow": null,
      "grid_area": null,
      "grid_auto_columns": null,
      "grid_auto_flow": null,
      "grid_auto_rows": null,
      "grid_column": null,
      "grid_gap": null,
      "grid_row": null,
      "grid_template_areas": null,
      "grid_template_columns": null,
      "grid_template_rows": null,
      "height": null,
      "justify_content": null,
      "justify_items": null,
      "left": null,
      "margin": null,
      "max_height": null,
      "max_width": null,
      "min_height": null,
      "min_width": null,
      "object_fit": null,
      "object_position": null,
      "order": null,
      "overflow": null,
      "overflow_x": null,
      "overflow_y": null,
      "padding": null,
      "right": null,
      "top": null,
      "visibility": null,
      "width": null
     }
    },
    "8437f69958494d0fb2321195483d6b6d": {
     "model_module": "@jupyter-widgets/controls",
     "model_name": "FloatSliderModel",
     "state": {
      "_dom_classes": [],
      "_model_module": "@jupyter-widgets/controls",
      "_model_module_version": "1.5.0",
      "_model_name": "FloatSliderModel",
      "_view_count": null,
      "_view_module": "@jupyter-widgets/controls",
      "_view_module_version": "1.5.0",
      "_view_name": "FloatSliderView",
      "continuous_update": true,
      "description": "xmin",
      "description_tooltip": null,
      "disabled": false,
      "layout": "IPY_MODEL_81900fdfa48a4fa4a98da4bb8f81bc43",
      "max": 0,
      "min": -10,
      "orientation": "horizontal",
      "readout": true,
      "readout_format": ".2f",
      "step": 0.1,
      "style": "IPY_MODEL_b533a93b94f74b978c1d3bfc954e8b66",
      "value": -5
     }
    },
    "88602113606f466b976569708842106c": {
     "model_module": "@jupyter-widgets/base",
     "model_name": "LayoutModel",
     "state": {
      "_model_module": "@jupyter-widgets/base",
      "_model_module_version": "1.2.0",
      "_model_name": "LayoutModel",
      "_view_count": null,
      "_view_module": "@jupyter-widgets/base",
      "_view_module_version": "1.2.0",
      "_view_name": "LayoutView",
      "align_content": null,
      "align_items": null,
      "align_self": null,
      "border": null,
      "bottom": null,
      "display": null,
      "flex": null,
      "flex_flow": null,
      "grid_area": null,
      "grid_auto_columns": null,
      "grid_auto_flow": null,
      "grid_auto_rows": null,
      "grid_column": null,
      "grid_gap": null,
      "grid_row": null,
      "grid_template_areas": null,
      "grid_template_columns": null,
      "grid_template_rows": null,
      "height": null,
      "justify_content": null,
      "justify_items": null,
      "left": null,
      "margin": null,
      "max_height": null,
      "max_width": null,
      "min_height": null,
      "min_width": null,
      "object_fit": null,
      "object_position": null,
      "order": null,
      "overflow": null,
      "overflow_x": null,
      "overflow_y": null,
      "padding": null,
      "right": null,
      "top": null,
      "visibility": null,
      "width": null
     }
    },
    "9b91350898f64cb68d8ecca6ea05dc58": {
     "model_module": "@jupyter-widgets/controls",
     "model_name": "SliderStyleModel",
     "state": {
      "_model_module": "@jupyter-widgets/controls",
      "_model_module_version": "1.5.0",
      "_model_name": "SliderStyleModel",
      "_view_count": null,
      "_view_module": "@jupyter-widgets/base",
      "_view_module_version": "1.2.0",
      "_view_name": "StyleView",
      "description_width": "",
      "handle_color": null
     }
    },
    "a0f457199b4b4d568104b1a6105bb1d7": {
     "model_module": "@jupyter-widgets/base",
     "model_name": "LayoutModel",
     "state": {
      "_model_module": "@jupyter-widgets/base",
      "_model_module_version": "1.2.0",
      "_model_name": "LayoutModel",
      "_view_count": null,
      "_view_module": "@jupyter-widgets/base",
      "_view_module_version": "1.2.0",
      "_view_name": "LayoutView",
      "align_content": null,
      "align_items": null,
      "align_self": null,
      "border": null,
      "bottom": null,
      "display": null,
      "flex": null,
      "flex_flow": null,
      "grid_area": null,
      "grid_auto_columns": null,
      "grid_auto_flow": null,
      "grid_auto_rows": null,
      "grid_column": null,
      "grid_gap": null,
      "grid_row": null,
      "grid_template_areas": null,
      "grid_template_columns": null,
      "grid_template_rows": null,
      "height": null,
      "justify_content": null,
      "justify_items": null,
      "left": null,
      "margin": null,
      "max_height": null,
      "max_width": null,
      "min_height": null,
      "min_width": null,
      "object_fit": null,
      "object_position": null,
      "order": null,
      "overflow": null,
      "overflow_x": null,
      "overflow_y": null,
      "padding": null,
      "right": null,
      "top": null,
      "visibility": null,
      "width": null
     }
    },
    "a20b23a712dd4ff69ed95bbad5521799": {
     "model_module": "@jupyter-widgets/base",
     "model_name": "LayoutModel",
     "state": {
      "_model_module": "@jupyter-widgets/base",
      "_model_module_version": "1.2.0",
      "_model_name": "LayoutModel",
      "_view_count": null,
      "_view_module": "@jupyter-widgets/base",
      "_view_module_version": "1.2.0",
      "_view_name": "LayoutView",
      "align_content": null,
      "align_items": null,
      "align_self": null,
      "border": null,
      "bottom": null,
      "display": null,
      "flex": null,
      "flex_flow": null,
      "grid_area": null,
      "grid_auto_columns": null,
      "grid_auto_flow": null,
      "grid_auto_rows": null,
      "grid_column": null,
      "grid_gap": null,
      "grid_row": null,
      "grid_template_areas": null,
      "grid_template_columns": null,
      "grid_template_rows": null,
      "height": null,
      "justify_content": null,
      "justify_items": null,
      "left": null,
      "margin": null,
      "max_height": null,
      "max_width": null,
      "min_height": null,
      "min_width": null,
      "object_fit": null,
      "object_position": null,
      "order": null,
      "overflow": null,
      "overflow_x": null,
      "overflow_y": null,
      "padding": null,
      "right": null,
      "top": null,
      "visibility": null,
      "width": null
     }
    },
    "a30dc32b1b5b4db38d6ec22c3dfff83f": {
     "model_module": "@jupyter-widgets/controls",
     "model_name": "FloatSliderModel",
     "state": {
      "_dom_classes": [],
      "_model_module": "@jupyter-widgets/controls",
      "_model_module_version": "1.5.0",
      "_model_name": "FloatSliderModel",
      "_view_count": null,
      "_view_module": "@jupyter-widgets/controls",
      "_view_module_version": "1.5.0",
      "_view_name": "FloatSliderView",
      "continuous_update": true,
      "description": "loc",
      "description_tooltip": null,
      "disabled": false,
      "layout": "IPY_MODEL_3993381138b44e68a0510fcb1561fd6b",
      "max": 10,
      "min": -10,
      "orientation": "horizontal",
      "readout": true,
      "readout_format": ".2f",
      "step": 0.1,
      "style": "IPY_MODEL_ba466afa7db54a3984d6a4a91c4bbd93",
      "value": 0
     }
    },
    "a5b79afb56024fca905bd8f8da584053": {
     "model_module": "@jupyter-widgets/controls",
     "model_name": "FloatSliderModel",
     "state": {
      "_dom_classes": [],
      "_model_module": "@jupyter-widgets/controls",
      "_model_module_version": "1.5.0",
      "_model_name": "FloatSliderModel",
      "_view_count": null,
      "_view_module": "@jupyter-widgets/controls",
      "_view_module_version": "1.5.0",
      "_view_name": "FloatSliderView",
      "continuous_update": true,
      "description": "xmax",
      "description_tooltip": null,
      "disabled": false,
      "layout": "IPY_MODEL_64f1017d5ab548879dfde6bfec27d40d",
      "max": 10,
      "min": 0,
      "orientation": "horizontal",
      "readout": true,
      "readout_format": ".2f",
      "step": 0.1,
      "style": "IPY_MODEL_17df4f4f9a0846ecacecf9fc139696d0",
      "value": 5
     }
    },
    "a66192de7d9c4d2d924d2fab46ced8c9": {
     "model_module": "@jupyter-widgets/controls",
     "model_name": "HBoxModel",
     "state": {
      "_dom_classes": [],
      "_model_module": "@jupyter-widgets/controls",
      "_model_module_version": "1.5.0",
      "_model_name": "HBoxModel",
      "_view_count": null,
      "_view_module": "@jupyter-widgets/controls",
      "_view_module_version": "1.5.0",
      "_view_name": "HBoxView",
      "box_style": "",
      "children": [
       "IPY_MODEL_80a262b2ac68452c9b2f2c510cc341a6",
       "IPY_MODEL_d1872eb246a14bbfb0b6bef71ab5419c"
      ],
      "layout": "IPY_MODEL_dcf82f850737400c9510ac552f735877"
     }
    },
    "abc640fb85e7435aaf0ecf3c4e89072f": {
     "model_module": "@jupyter-widgets/base",
     "model_name": "LayoutModel",
     "state": {
      "_model_module": "@jupyter-widgets/base",
      "_model_module_version": "1.2.0",
      "_model_name": "LayoutModel",
      "_view_count": null,
      "_view_module": "@jupyter-widgets/base",
      "_view_module_version": "1.2.0",
      "_view_name": "LayoutView",
      "align_content": null,
      "align_items": null,
      "align_self": null,
      "border": null,
      "bottom": null,
      "display": null,
      "flex": null,
      "flex_flow": null,
      "grid_area": null,
      "grid_auto_columns": null,
      "grid_auto_flow": null,
      "grid_auto_rows": null,
      "grid_column": null,
      "grid_gap": null,
      "grid_row": null,
      "grid_template_areas": null,
      "grid_template_columns": null,
      "grid_template_rows": null,
      "height": null,
      "justify_content": null,
      "justify_items": null,
      "left": null,
      "margin": null,
      "max_height": null,
      "max_width": null,
      "min_height": null,
      "min_width": null,
      "object_fit": null,
      "object_position": null,
      "order": null,
      "overflow": null,
      "overflow_x": null,
      "overflow_y": null,
      "padding": null,
      "right": null,
      "top": null,
      "visibility": null,
      "width": null
     }
    },
    "ad101776b67f413887b890584e9479b9": {
     "model_module": "@jupyter-widgets/controls",
     "model_name": "FloatSliderModel",
     "state": {
      "_dom_classes": [],
      "_model_module": "@jupyter-widgets/controls",
      "_model_module_version": "1.5.0",
      "_model_name": "FloatSliderModel",
      "_view_count": null,
      "_view_module": "@jupyter-widgets/controls",
      "_view_module_version": "1.5.0",
      "_view_name": "FloatSliderView",
      "continuous_update": true,
      "description": "xmax",
      "description_tooltip": null,
      "disabled": false,
      "layout": "IPY_MODEL_abc640fb85e7435aaf0ecf3c4e89072f",
      "max": 10,
      "min": 0,
      "orientation": "horizontal",
      "readout": true,
      "readout_format": ".2f",
      "step": 0.1,
      "style": "IPY_MODEL_9b91350898f64cb68d8ecca6ea05dc58",
      "value": 5
     }
    },
    "af106b56307244ccb3678815e3defbc9": {
     "model_module": "@jupyter-widgets/base",
     "model_name": "LayoutModel",
     "state": {
      "_model_module": "@jupyter-widgets/base",
      "_model_module_version": "1.2.0",
      "_model_name": "LayoutModel",
      "_view_count": null,
      "_view_module": "@jupyter-widgets/base",
      "_view_module_version": "1.2.0",
      "_view_name": "LayoutView",
      "align_content": null,
      "align_items": null,
      "align_self": null,
      "border": null,
      "bottom": null,
      "display": null,
      "flex": null,
      "flex_flow": null,
      "grid_area": null,
      "grid_auto_columns": null,
      "grid_auto_flow": null,
      "grid_auto_rows": null,
      "grid_column": null,
      "grid_gap": null,
      "grid_row": null,
      "grid_template_areas": null,
      "grid_template_columns": null,
      "grid_template_rows": null,
      "height": null,
      "justify_content": null,
      "justify_items": null,
      "left": null,
      "margin": null,
      "max_height": null,
      "max_width": null,
      "min_height": null,
      "min_width": null,
      "object_fit": null,
      "object_position": null,
      "order": null,
      "overflow": null,
      "overflow_x": null,
      "overflow_y": null,
      "padding": null,
      "right": null,
      "top": null,
      "visibility": null,
      "width": null
     }
    },
    "b533a93b94f74b978c1d3bfc954e8b66": {
     "model_module": "@jupyter-widgets/controls",
     "model_name": "SliderStyleModel",
     "state": {
      "_model_module": "@jupyter-widgets/controls",
      "_model_module_version": "1.5.0",
      "_model_name": "SliderStyleModel",
      "_view_count": null,
      "_view_module": "@jupyter-widgets/base",
      "_view_module_version": "1.2.0",
      "_view_name": "StyleView",
      "description_width": "",
      "handle_color": null
     }
    },
    "b70ce5b33aa94df4a18ecec83def24b3": {
     "model_module": "@jupyter-widgets/controls",
     "model_name": "SliderStyleModel",
     "state": {
      "_model_module": "@jupyter-widgets/controls",
      "_model_module_version": "1.5.0",
      "_model_name": "SliderStyleModel",
      "_view_count": null,
      "_view_module": "@jupyter-widgets/base",
      "_view_module_version": "1.2.0",
      "_view_name": "StyleView",
      "description_width": "",
      "handle_color": null
     }
    },
    "ba466afa7db54a3984d6a4a91c4bbd93": {
     "model_module": "@jupyter-widgets/controls",
     "model_name": "SliderStyleModel",
     "state": {
      "_model_module": "@jupyter-widgets/controls",
      "_model_module_version": "1.5.0",
      "_model_name": "SliderStyleModel",
      "_view_count": null,
      "_view_module": "@jupyter-widgets/base",
      "_view_module_version": "1.2.0",
      "_view_name": "StyleView",
      "description_width": "",
      "handle_color": null
     }
    },
    "bac3b63826614e3690de954c37521fff": {
     "model_module": "@jupyter-widgets/base",
     "model_name": "LayoutModel",
     "state": {
      "_model_module": "@jupyter-widgets/base",
      "_model_module_version": "1.2.0",
      "_model_name": "LayoutModel",
      "_view_count": null,
      "_view_module": "@jupyter-widgets/base",
      "_view_module_version": "1.2.0",
      "_view_name": "LayoutView",
      "align_content": null,
      "align_items": null,
      "align_self": null,
      "border": null,
      "bottom": null,
      "display": null,
      "flex": null,
      "flex_flow": null,
      "grid_area": null,
      "grid_auto_columns": null,
      "grid_auto_flow": null,
      "grid_auto_rows": null,
      "grid_column": null,
      "grid_gap": null,
      "grid_row": null,
      "grid_template_areas": null,
      "grid_template_columns": null,
      "grid_template_rows": null,
      "height": null,
      "justify_content": null,
      "justify_items": null,
      "left": null,
      "margin": null,
      "max_height": null,
      "max_width": null,
      "min_height": null,
      "min_width": null,
      "object_fit": null,
      "object_position": null,
      "order": null,
      "overflow": null,
      "overflow_x": null,
      "overflow_y": null,
      "padding": null,
      "right": null,
      "top": null,
      "visibility": null,
      "width": null
     }
    },
    "badfae6541e24610834561565e0bda69": {
     "model_module": "@jupyter-widgets/base",
     "model_name": "LayoutModel",
     "state": {
      "_model_module": "@jupyter-widgets/base",
      "_model_module_version": "1.2.0",
      "_model_name": "LayoutModel",
      "_view_count": null,
      "_view_module": "@jupyter-widgets/base",
      "_view_module_version": "1.2.0",
      "_view_name": "LayoutView",
      "align_content": null,
      "align_items": null,
      "align_self": null,
      "border": null,
      "bottom": null,
      "display": null,
      "flex": null,
      "flex_flow": null,
      "grid_area": null,
      "grid_auto_columns": null,
      "grid_auto_flow": null,
      "grid_auto_rows": null,
      "grid_column": null,
      "grid_gap": null,
      "grid_row": null,
      "grid_template_areas": null,
      "grid_template_columns": null,
      "grid_template_rows": null,
      "height": null,
      "justify_content": null,
      "justify_items": null,
      "left": null,
      "margin": null,
      "max_height": null,
      "max_width": null,
      "min_height": null,
      "min_width": null,
      "object_fit": null,
      "object_position": null,
      "order": null,
      "overflow": null,
      "overflow_x": null,
      "overflow_y": null,
      "padding": null,
      "right": null,
      "top": null,
      "visibility": null,
      "width": null
     }
    },
    "c18c87e401f74e6b830f323b35a98223": {
     "model_module": "@jupyter-widgets/output",
     "model_name": "OutputModel",
     "state": {
      "_dom_classes": [],
      "_model_module": "@jupyter-widgets/output",
      "_model_module_version": "1.0.0",
      "_model_name": "OutputModel",
      "_view_count": null,
      "_view_module": "@jupyter-widgets/output",
      "_view_module_version": "1.0.0",
      "_view_name": "OutputView",
      "layout": "IPY_MODEL_d26c14de6ac84ce58329725a0f822381",
      "msg_id": "",
      "outputs": [
       {
        "image/png": "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\n",
        "metadata": {
         "needs_background": "light",
         "tags": []
        },
        "output_type": "display_data",
        "text/plain": "<Figure size 864x360 with 1 Axes>"
       }
      ]
     }
    },
    "c5dd934a16e34a7287060ff5bdc93da0": {
     "model_module": "@jupyter-widgets/base",
     "model_name": "LayoutModel",
     "state": {
      "_model_module": "@jupyter-widgets/base",
      "_model_module_version": "1.2.0",
      "_model_name": "LayoutModel",
      "_view_count": null,
      "_view_module": "@jupyter-widgets/base",
      "_view_module_version": "1.2.0",
      "_view_name": "LayoutView",
      "align_content": null,
      "align_items": null,
      "align_self": null,
      "border": null,
      "bottom": null,
      "display": null,
      "flex": null,
      "flex_flow": null,
      "grid_area": null,
      "grid_auto_columns": null,
      "grid_auto_flow": null,
      "grid_auto_rows": null,
      "grid_column": null,
      "grid_gap": null,
      "grid_row": null,
      "grid_template_areas": null,
      "grid_template_columns": null,
      "grid_template_rows": null,
      "height": null,
      "justify_content": null,
      "justify_items": null,
      "left": null,
      "margin": null,
      "max_height": null,
      "max_width": null,
      "min_height": null,
      "min_width": null,
      "object_fit": null,
      "object_position": null,
      "order": null,
      "overflow": null,
      "overflow_x": null,
      "overflow_y": null,
      "padding": null,
      "right": null,
      "top": null,
      "visibility": null,
      "width": null
     }
    },
    "d0c289df62074a6ea74a1fd862694c18": {
     "model_module": "@jupyter-widgets/controls",
     "model_name": "HBoxModel",
     "state": {
      "_dom_classes": [],
      "_model_module": "@jupyter-widgets/controls",
      "_model_module_version": "1.5.0",
      "_model_name": "HBoxModel",
      "_view_count": null,
      "_view_module": "@jupyter-widgets/controls",
      "_view_module_version": "1.5.0",
      "_view_name": "HBoxView",
      "box_style": "",
      "children": [
       "IPY_MODEL_43ba6be204844d6f886b5ffb2d688eb1",
       "IPY_MODEL_7a097f78f1db48669c8886474899d0e1"
      ],
      "layout": "IPY_MODEL_01d1f1f670484c39a80544091e77e825"
     }
    },
    "d1872eb246a14bbfb0b6bef71ab5419c": {
     "model_module": "@jupyter-widgets/controls",
     "model_name": "IntSliderModel",
     "state": {
      "_dom_classes": [],
      "_model_module": "@jupyter-widgets/controls",
      "_model_module_version": "1.5.0",
      "_model_name": "IntSliderModel",
      "_view_count": null,
      "_view_module": "@jupyter-widgets/controls",
      "_view_module_version": "1.5.0",
      "_view_name": "IntSliderView",
      "continuous_update": true,
      "description": "grid_size",
      "description_tooltip": null,
      "disabled": false,
      "layout": "IPY_MODEL_a0f457199b4b4d568104b1a6105bb1d7",
      "max": 300,
      "min": 25,
      "orientation": "horizontal",
      "readout": true,
      "readout_format": "d",
      "step": 25,
      "style": "IPY_MODEL_0418ac1649f64b2cb359263efe7e7f83",
      "value": 100
     }
    },
    "d26c14de6ac84ce58329725a0f822381": {
     "model_module": "@jupyter-widgets/base",
     "model_name": "LayoutModel",
     "state": {
      "_model_module": "@jupyter-widgets/base",
      "_model_module_version": "1.2.0",
      "_model_name": "LayoutModel",
      "_view_count": null,
      "_view_module": "@jupyter-widgets/base",
      "_view_module_version": "1.2.0",
      "_view_name": "LayoutView",
      "align_content": null,
      "align_items": null,
      "align_self": null,
      "border": null,
      "bottom": null,
      "display": null,
      "flex": null,
      "flex_flow": null,
      "grid_area": null,
      "grid_auto_columns": null,
      "grid_auto_flow": null,
      "grid_auto_rows": null,
      "grid_column": null,
      "grid_gap": null,
      "grid_row": null,
      "grid_template_areas": null,
      "grid_template_columns": null,
      "grid_template_rows": null,
      "height": null,
      "justify_content": null,
      "justify_items": null,
      "left": null,
      "margin": null,
      "max_height": null,
      "max_width": null,
      "min_height": null,
      "min_width": null,
      "object_fit": null,
      "object_position": null,
      "order": null,
      "overflow": null,
      "overflow_x": null,
      "overflow_y": null,
      "padding": null,
      "right": null,
      "top": null,
      "visibility": null,
      "width": null
     }
    },
    "dcf82f850737400c9510ac552f735877": {
     "model_module": "@jupyter-widgets/base",
     "model_name": "LayoutModel",
     "state": {
      "_model_module": "@jupyter-widgets/base",
      "_model_module_version": "1.2.0",
      "_model_name": "LayoutModel",
      "_view_count": null,
      "_view_module": "@jupyter-widgets/base",
      "_view_module_version": "1.2.0",
      "_view_name": "LayoutView",
      "align_content": null,
      "align_items": null,
      "align_self": null,
      "border": null,
      "bottom": null,
      "display": null,
      "flex": null,
      "flex_flow": null,
      "grid_area": null,
      "grid_auto_columns": null,
      "grid_auto_flow": null,
      "grid_auto_rows": null,
      "grid_column": null,
      "grid_gap": null,
      "grid_row": null,
      "grid_template_areas": null,
      "grid_template_columns": null,
      "grid_template_rows": null,
      "height": null,
      "justify_content": null,
      "justify_items": null,
      "left": null,
      "margin": null,
      "max_height": null,
      "max_width": null,
      "min_height": null,
      "min_width": null,
      "object_fit": null,
      "object_position": null,
      "order": null,
      "overflow": null,
      "overflow_x": null,
      "overflow_y": null,
      "padding": null,
      "right": null,
      "top": null,
      "visibility": null,
      "width": null
     }
    },
    "dfeffd287e5c44a3804b19f2b5cc85b4": {
     "model_module": "@jupyter-widgets/controls",
     "model_name": "FloatSliderModel",
     "state": {
      "_dom_classes": [],
      "_model_module": "@jupyter-widgets/controls",
      "_model_module_version": "1.5.0",
      "_model_name": "FloatSliderModel",
      "_view_count": null,
      "_view_module": "@jupyter-widgets/controls",
      "_view_module_version": "1.5.0",
      "_view_name": "FloatSliderView",
      "continuous_update": true,
      "description": "loc",
      "description_tooltip": null,
      "disabled": false,
      "layout": "IPY_MODEL_ebd96db4ffc54d159b5d172f650923e0",
      "max": 0,
      "min": -4,
      "orientation": "horizontal",
      "readout": true,
      "readout_format": ".2f",
      "step": 0.1,
      "style": "IPY_MODEL_5b1a11a00ef04e08819157097dbf42b7",
      "value": 0
     }
    },
    "e2066d80bc554feaab4d81d77504eb82": {
     "model_module": "@jupyter-widgets/controls",
     "model_name": "FloatSliderModel",
     "state": {
      "_dom_classes": [],
      "_model_module": "@jupyter-widgets/controls",
      "_model_module_version": "1.5.0",
      "_model_name": "FloatSliderModel",
      "_view_count": null,
      "_view_module": "@jupyter-widgets/controls",
      "_view_module_version": "1.5.0",
      "_view_name": "FloatSliderView",
      "continuous_update": true,
      "description": "scale",
      "description_tooltip": null,
      "disabled": false,
      "layout": "IPY_MODEL_af106b56307244ccb3678815e3defbc9",
      "max": 2,
      "min": 0.01,
      "orientation": "horizontal",
      "readout": true,
      "readout_format": ".2f",
      "step": 0.01,
      "style": "IPY_MODEL_e85e39ec056448e7835d270d471ac32f",
      "value": 1
     }
    },
    "e85e39ec056448e7835d270d471ac32f": {
     "model_module": "@jupyter-widgets/controls",
     "model_name": "SliderStyleModel",
     "state": {
      "_model_module": "@jupyter-widgets/controls",
      "_model_module_version": "1.5.0",
      "_model_name": "SliderStyleModel",
      "_view_count": null,
      "_view_module": "@jupyter-widgets/base",
      "_view_module_version": "1.2.0",
      "_view_name": "StyleView",
      "description_width": "",
      "handle_color": null
     }
    },
    "e90b4fe5e45245a99c24a94408b20ec2": {
     "model_module": "@jupyter-widgets/controls",
     "model_name": "FloatSliderModel",
     "state": {
      "_dom_classes": [],
      "_model_module": "@jupyter-widgets/controls",
      "_model_module_version": "1.5.0",
      "_model_name": "FloatSliderModel",
      "_view_count": null,
      "_view_module": "@jupyter-widgets/controls",
      "_view_module_version": "1.5.0",
      "_view_name": "FloatSliderView",
      "continuous_update": true,
      "description": "xmin",
      "description_tooltip": null,
      "disabled": false,
      "layout": "IPY_MODEL_694742784c9e40fb852585ab50fcdc3f",
      "max": 0,
      "min": -10,
      "orientation": "horizontal",
      "readout": true,
      "readout_format": ".2f",
      "step": 0.1,
      "style": "IPY_MODEL_7786302ba9a641d986e4d79c8716e33b",
      "value": -5
     }
    },
    "ebd96db4ffc54d159b5d172f650923e0": {
     "model_module": "@jupyter-widgets/base",
     "model_name": "LayoutModel",
     "state": {
      "_model_module": "@jupyter-widgets/base",
      "_model_module_version": "1.2.0",
      "_model_name": "LayoutModel",
      "_view_count": null,
      "_view_module": "@jupyter-widgets/base",
      "_view_module_version": "1.2.0",
      "_view_name": "LayoutView",
      "align_content": null,
      "align_items": null,
      "align_self": null,
      "border": null,
      "bottom": null,
      "display": null,
      "flex": null,
      "flex_flow": null,
      "grid_area": null,
      "grid_auto_columns": null,
      "grid_auto_flow": null,
      "grid_auto_rows": null,
      "grid_column": null,
      "grid_gap": null,
      "grid_row": null,
      "grid_template_areas": null,
      "grid_template_columns": null,
      "grid_template_rows": null,
      "height": null,
      "justify_content": null,
      "justify_items": null,
      "left": null,
      "margin": null,
      "max_height": null,
      "max_width": null,
      "min_height": null,
      "min_width": null,
      "object_fit": null,
      "object_position": null,
      "order": null,
      "overflow": null,
      "overflow_x": null,
      "overflow_y": null,
      "padding": null,
      "right": null,
      "top": null,
      "visibility": null,
      "width": null
     }
    },
    "f18a19f8184a4da2b4616a5c33090104": {
     "model_module": "@jupyter-widgets/controls",
     "model_name": "HBoxModel",
     "state": {
      "_dom_classes": [],
      "_model_module": "@jupyter-widgets/controls",
      "_model_module_version": "1.5.0",
      "_model_name": "HBoxModel",
      "_view_count": null,
      "_view_module": "@jupyter-widgets/controls",
      "_view_module_version": "1.5.0",
      "_view_name": "HBoxView",
      "box_style": "",
      "children": [
       "IPY_MODEL_a30dc32b1b5b4db38d6ec22c3dfff83f",
       "IPY_MODEL_e2066d80bc554feaab4d81d77504eb82"
      ],
      "layout": "IPY_MODEL_72b567b07ea248feacd8b5b092d2eaa9"
     }
    }
   }
  }
 },
 "nbformat": 4,
 "nbformat_minor": 1
}
